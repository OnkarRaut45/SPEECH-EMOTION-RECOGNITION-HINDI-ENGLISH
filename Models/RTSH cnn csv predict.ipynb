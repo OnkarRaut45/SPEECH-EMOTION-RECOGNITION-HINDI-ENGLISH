{
 "cells": [
  {
   "cell_type": "code",
   "execution_count": 1,
   "metadata": {},
   "outputs": [],
   "source": [
    "import pandas as pd\n",
    "import numpy as np\n",
    "\n",
    "import os\n",
    "import sys\n",
    "import pickle\n",
    "import librosa\n",
    "import librosa.display\n",
    "\n",
    "import seaborn as sns\n",
    "import matplotlib.pyplot as plt\n",
    "\n",
    "from sklearn.preprocessing import StandardScaler, OneHotEncoder , LabelEncoder\n",
    "from sklearn.metrics import confusion_matrix, classification_report\n",
    "from sklearn.model_selection import train_test_split\n",
    "from IPython.display import Audio\n",
    "import keras\n",
    "from keras.callbacks import ReduceLROnPlateau\n",
    "from keras.models import Sequential\n",
    "from keras.layers import Dense, Conv1D, MaxPooling1D, Flatten, Dropout, BatchNormalization\n",
    "from keras.utils import np_utils\n",
    "from tensorflow.keras.utils import to_categorical\n",
    "from keras.callbacks import ModelCheckpoint\n",
    "\n",
    "import warnings\n",
    "if not sys.warnoptions:\n",
    "    warnings.simplefilter(\"ignore\")\n",
    "warnings.filterwarnings(\"ignore\", category=DeprecationWarning) \n"
   ]
  },
  {
   "cell_type": "code",
   "execution_count": 2,
   "metadata": {
    "execution": {
     "iopub.execute_input": "2021-09-11T08:01:57.311732Z",
     "iopub.status.busy": "2021-09-11T08:01:57.311274Z",
     "iopub.status.idle": "2021-09-11T08:01:57.320294Z",
     "shell.execute_reply": "2021-09-11T08:01:57.319186Z",
     "shell.execute_reply.started": "2021-09-11T08:01:57.311516Z"
    }
   },
   "outputs": [],
   "source": [
    "def create_waveplot(data, sr, e):\n",
    "    plt.figure(figsize=(10, 3))\n",
    "    plt.title('Waveplot for audio with {} emotion'.format(e), size=15)\n",
    "    librosa.display.waveplot(data, sr=sr)\n",
    "    plt.show()\n",
    "\n",
    "def create_spectrogram(data, sr, e):\n",
    "    X = librosa.stft(data)\n",
    "    Xdb = librosa.amplitude_to_db(abs(X))\n",
    "    plt.figure(figsize=(12, 3))\n",
    "    plt.title('Spectrogram for audio with {} emotion'.format(e), size=15)\n",
    "    librosa.display.specshow(Xdb, sr=sr, x_axis='time', y_axis='hz')   \n",
    "    #librosa.display.specshow(Xdb, sr=sr, x_axis='time', y_axis='log')\n",
    "    plt.colorbar()"
   ]
  },
  {
   "cell_type": "code",
   "execution_count": 3,
   "metadata": {},
   "outputs": [],
   "source": [
    "trdata=pd.read_csv('C:\\All_Files\\BE Project\\\\trials\\Finalised\\RTSH cnnfeatures.csv')"
   ]
  },
  {
   "cell_type": "code",
   "execution_count": 4,
   "metadata": {},
   "outputs": [
    {
     "data": {
      "text/plain": [
       "(10958, 163)"
      ]
     },
     "execution_count": 4,
     "metadata": {},
     "output_type": "execute_result"
    }
   ],
   "source": [
    "trdata.shape"
   ]
  },
  {
   "cell_type": "code",
   "execution_count": 5,
   "metadata": {},
   "outputs": [
    {
     "data": {
      "text/plain": [
       "Index(['0', '1', '2', '3', '4', '5', '6', '7', '8', '9',\n",
       "       ...\n",
       "       '153', '154', '155', '156', '157', '158', '159', '160', '161',\n",
       "       'labels'],\n",
       "      dtype='object', length=163)"
      ]
     },
     "execution_count": 5,
     "metadata": {},
     "output_type": "execute_result"
    }
   ],
   "source": [
    "trdata.columns"
   ]
  },
  {
   "cell_type": "code",
   "execution_count": 6,
   "metadata": {},
   "outputs": [],
   "source": [
    "X = trdata.drop('labels', axis = 1).values\n",
    "Y = trdata['labels'].values"
   ]
  },
  {
   "cell_type": "code",
   "execution_count": 7,
   "metadata": {},
   "outputs": [
    {
     "data": {
      "text/plain": [
       "((10958, 162), (10958,))"
      ]
     },
     "execution_count": 7,
     "metadata": {},
     "output_type": "execute_result"
    }
   ],
   "source": [
    "X.shape,Y.shape"
   ]
  },
  {
   "cell_type": "code",
   "execution_count": 8,
   "metadata": {
    "execution": {
     "iopub.execute_input": "2021-09-11T08:44:12.349836Z",
     "iopub.status.busy": "2021-09-11T08:44:12.349336Z",
     "iopub.status.idle": "2021-09-11T08:44:12.377048Z",
     "shell.execute_reply": "2021-09-11T08:44:12.376215Z",
     "shell.execute_reply.started": "2021-09-11T08:44:12.349618Z"
    }
   },
   "outputs": [],
   "source": [
    "# As this is a multiclass classification problem onehotencoding our Y.\n",
    "encoder = OneHotEncoder()\n",
    "Y = encoder.fit_transform(np.array(Y).reshape(-1,1)).toarray()"
   ]
  },
  {
   "cell_type": "code",
   "execution_count": 9,
   "metadata": {
    "execution": {
     "iopub.execute_input": "2021-09-11T08:44:12.378939Z",
     "iopub.status.busy": "2021-09-11T08:44:12.378456Z",
     "iopub.status.idle": "2021-09-11T08:44:12.492347Z",
     "shell.execute_reply": "2021-09-11T08:44:12.491329Z",
     "shell.execute_reply.started": "2021-09-11T08:44:12.378759Z"
    }
   },
   "outputs": [
    {
     "data": {
      "text/plain": [
       "((8218, 162), (8218, 8), (2740, 162), (2740, 8))"
      ]
     },
     "execution_count": 9,
     "metadata": {},
     "output_type": "execute_result"
    }
   ],
   "source": [
    "# splitting data\n",
    "x_train, x_test, y_train, y_test = train_test_split(X, Y, random_state=0, shuffle=True)\n",
    "x_train.shape, y_train.shape, x_test.shape, y_test.shape"
   ]
  },
  {
   "cell_type": "code",
   "execution_count": 10,
   "metadata": {
    "execution": {
     "iopub.execute_input": "2021-09-11T08:44:12.494246Z",
     "iopub.status.busy": "2021-09-11T08:44:12.493818Z",
     "iopub.status.idle": "2021-09-11T08:44:12.659403Z",
     "shell.execute_reply": "2021-09-11T08:44:12.658522Z",
     "shell.execute_reply.started": "2021-09-11T08:44:12.494066Z"
    }
   },
   "outputs": [
    {
     "data": {
      "text/plain": [
       "((8218, 162), (8218, 8), (2740, 162), (2740, 8))"
      ]
     },
     "execution_count": 10,
     "metadata": {},
     "output_type": "execute_result"
    }
   ],
   "source": [
    "# scaling our data with sklearn's Standard scaler\n",
    "scaler = StandardScaler()\n",
    "x_train = scaler.fit_transform(x_train)\n",
    "x_test = scaler.transform(x_test)\n",
    "x_train.shape, y_train.shape, x_test.shape, y_test.shape"
   ]
  },
  {
   "cell_type": "code",
   "execution_count": 11,
   "metadata": {
    "execution": {
     "iopub.execute_input": "2021-09-11T08:44:12.661417Z",
     "iopub.status.busy": "2021-09-11T08:44:12.660978Z",
     "iopub.status.idle": "2021-09-11T08:44:12.669692Z",
     "shell.execute_reply": "2021-09-11T08:44:12.668738Z",
     "shell.execute_reply.started": "2021-09-11T08:44:12.661237Z"
    }
   },
   "outputs": [
    {
     "data": {
      "text/plain": [
       "((8218, 162, 1), (8218, 8), (2740, 162, 1), (2740, 8))"
      ]
     },
     "execution_count": 11,
     "metadata": {},
     "output_type": "execute_result"
    }
   ],
   "source": [
    "# making our data compatible to model.\n",
    "x_train = np.expand_dims(x_train, axis=2)\n",
    "x_test = np.expand_dims(x_test, axis=2)\n",
    "x_train.shape, y_train.shape, x_test.shape, y_test.shape"
   ]
  },
  {
   "cell_type": "code",
   "execution_count": 12,
   "metadata": {},
   "outputs": [
    {
     "name": "stdout",
     "output_type": "stream",
     "text": [
      "Model: \"sequential\"\n",
      "_________________________________________________________________\n",
      " Layer (type)                Output Shape              Param #   \n",
      "=================================================================\n",
      " conv1d (Conv1D)             (None, 162, 64)           384       \n",
      "                                                                 \n",
      " max_pooling1d (MaxPooling1D  (None, 41, 64)           0         \n",
      " )                                                               \n",
      "                                                                 \n",
      " conv1d_1 (Conv1D)           (None, 41, 128)           41088     \n",
      "                                                                 \n",
      " max_pooling1d_1 (MaxPooling  (None, 11, 128)          0         \n",
      " 1D)                                                             \n",
      "                                                                 \n",
      " conv1d_2 (Conv1D)           (None, 11, 128)           82048     \n",
      "                                                                 \n",
      " max_pooling1d_2 (MaxPooling  (None, 3, 128)           0         \n",
      " 1D)                                                             \n",
      "                                                                 \n",
      " dropout (Dropout)           (None, 3, 128)            0         \n",
      "                                                                 \n",
      " conv1d_3 (Conv1D)           (None, 3, 256)            164096    \n",
      "                                                                 \n",
      " max_pooling1d_3 (MaxPooling  (None, 1, 256)           0         \n",
      " 1D)                                                             \n",
      "                                                                 \n",
      " flatten (Flatten)           (None, 256)               0         \n",
      "                                                                 \n",
      " dense (Dense)               (None, 32)                8224      \n",
      "                                                                 \n",
      " dropout_1 (Dropout)         (None, 32)                0         \n",
      "                                                                 \n",
      " dense_1 (Dense)             (None, 8)                 264       \n",
      "                                                                 \n",
      "=================================================================\n",
      "Total params: 296,104\n",
      "Trainable params: 296,104\n",
      "Non-trainable params: 0\n",
      "_________________________________________________________________\n"
     ]
    }
   ],
   "source": [
    "model=Sequential()\n",
    "model.add(Conv1D(64, kernel_size=5, strides=1, padding='same', activation='relu', input_shape=(x_train.shape[1], 1)))\n",
    "model.add(MaxPooling1D(pool_size=5, strides = 4, padding = 'same'))\n",
    "\n",
    "model.add(Conv1D(128, kernel_size=5, strides=1, padding='same', activation='relu'))\n",
    "model.add(MaxPooling1D(pool_size=5, strides = 4, padding = 'same'))\n",
    "\n",
    "model.add(Conv1D(128, kernel_size=5, strides=1, padding='same', activation='relu'))\n",
    "model.add(MaxPooling1D(pool_size=5, strides = 4, padding = 'same'))\n",
    "model.add(Dropout(0.2))\n",
    "\n",
    "model.add(Conv1D(256, kernel_size=5, strides=1, padding='same', activation='relu'))\n",
    "model.add(MaxPooling1D(pool_size=5, strides = 4, padding = 'same'))\n",
    "\n",
    "model.add(Flatten())\n",
    "model.add(Dense(units=32, activation='relu'))\n",
    "model.add(Dropout(0.3))\n",
    "\n",
    "model.add(Dense(units=8, activation='softmax'))\n",
    "model.compile(optimizer = 'adam' , loss = 'categorical_crossentropy' , metrics = ['accuracy'])\n",
    "\n",
    "model.summary()"
   ]
  },
  {
   "cell_type": "code",
   "execution_count": 14,
   "metadata": {
    "execution": {
     "iopub.execute_input": "2021-09-11T08:44:15.035738Z",
     "iopub.status.busy": "2021-09-11T08:44:15.035438Z",
     "iopub.status.idle": "2021-09-11T08:47:51.962506Z",
     "shell.execute_reply": "2021-09-11T08:47:51.961547Z",
     "shell.execute_reply.started": "2021-09-11T08:44:15.035675Z"
    }
   },
   "outputs": [
    {
     "name": "stdout",
     "output_type": "stream",
     "text": [
      "Epoch 1/50\n",
      "257/257 [==============================] - 4s 15ms/step - loss: 0.4252 - accuracy: 0.8466 - val_loss: 0.6053 - val_accuracy: 0.8015 - lr: 0.0010\n",
      "Epoch 2/50\n",
      "257/257 [==============================] - 3s 12ms/step - loss: 0.4140 - accuracy: 0.8514 - val_loss: 0.6548 - val_accuracy: 0.8000 - lr: 0.0010\n",
      "Epoch 3/50\n",
      "257/257 [==============================] - 3s 12ms/step - loss: 0.3746 - accuracy: 0.8604 - val_loss: 0.6700 - val_accuracy: 0.8004 - lr: 0.0010\n",
      "Epoch 4/50\n",
      "257/257 [==============================] - 3s 12ms/step - loss: 0.3725 - accuracy: 0.8671 - val_loss: 0.6530 - val_accuracy: 0.8062 - lr: 0.0010\n",
      "Epoch 5/50\n",
      "257/257 [==============================] - 3s 13ms/step - loss: 0.3367 - accuracy: 0.8795 - val_loss: 0.6513 - val_accuracy: 0.7985 - lr: 0.0010\n",
      "Epoch 6/50\n",
      "257/257 [==============================] - 3s 11ms/step - loss: 0.3408 - accuracy: 0.8807 - val_loss: 0.6415 - val_accuracy: 0.7996 - lr: 0.0010\n",
      "Epoch 7/50\n",
      "257/257 [==============================] - 3s 13ms/step - loss: 0.3168 - accuracy: 0.8871 - val_loss: 0.5980 - val_accuracy: 0.8219 - lr: 0.0010\n",
      "Epoch 8/50\n",
      "257/257 [==============================] - 3s 13ms/step - loss: 0.3207 - accuracy: 0.8889 - val_loss: 0.6689 - val_accuracy: 0.8117 - lr: 0.0010\n",
      "Epoch 9/50\n",
      "257/257 [==============================] - 3s 12ms/step - loss: 0.2806 - accuracy: 0.8973 - val_loss: 0.6488 - val_accuracy: 0.8142 - lr: 0.0010\n",
      "Epoch 10/50\n",
      "257/257 [==============================] - 3s 12ms/step - loss: 0.2797 - accuracy: 0.9051 - val_loss: 0.5946 - val_accuracy: 0.8219 - lr: 0.0010\n",
      "Epoch 11/50\n",
      "257/257 [==============================] - 3s 13ms/step - loss: 0.2695 - accuracy: 0.9052 - val_loss: 0.6264 - val_accuracy: 0.8252 - lr: 0.0010\n",
      "Epoch 12/50\n",
      "257/257 [==============================] - 3s 13ms/step - loss: 0.2524 - accuracy: 0.9104 - val_loss: 0.6364 - val_accuracy: 0.8303 - lr: 0.0010\n",
      "Epoch 13/50\n",
      "257/257 [==============================] - 3s 13ms/step - loss: 0.2655 - accuracy: 0.9104 - val_loss: 0.6053 - val_accuracy: 0.8226 - lr: 0.0010\n",
      "Epoch 14/50\n",
      "257/257 [==============================] - 4s 14ms/step - loss: 0.2235 - accuracy: 0.9218 - val_loss: 0.6597 - val_accuracy: 0.8299 - lr: 0.0010\n",
      "Epoch 15/50\n",
      "257/257 [==============================] - 4s 14ms/step - loss: 0.2204 - accuracy: 0.9220 - val_loss: 0.6466 - val_accuracy: 0.8292 - lr: 0.0010\n",
      "Epoch 16/50\n",
      "257/257 [==============================] - 4s 15ms/step - loss: 0.2003 - accuracy: 0.9317 - val_loss: 0.6272 - val_accuracy: 0.8139 - lr: 0.0010\n",
      "Epoch 17/50\n",
      "257/257 [==============================] - 4s 15ms/step - loss: 0.1971 - accuracy: 0.9340 - val_loss: 0.6671 - val_accuracy: 0.8292 - lr: 0.0010\n",
      "Epoch 18/50\n",
      "257/257 [==============================] - 4s 16ms/step - loss: 0.1730 - accuracy: 0.9404 - val_loss: 0.7480 - val_accuracy: 0.8288 - lr: 0.0010\n",
      "Epoch 19/50\n",
      "257/257 [==============================] - 5s 20ms/step - loss: 0.2021 - accuracy: 0.9320 - val_loss: 0.7832 - val_accuracy: 0.8252 - lr: 0.0010\n",
      "Epoch 20/50\n",
      "257/257 [==============================] - 6s 24ms/step - loss: 0.1788 - accuracy: 0.9395 - val_loss: 0.7094 - val_accuracy: 0.8296 - lr: 0.0010\n",
      "Epoch 21/50\n",
      "257/257 [==============================] - 6s 22ms/step - loss: 0.1882 - accuracy: 0.9385 - val_loss: 0.6756 - val_accuracy: 0.8281 - lr: 0.0010\n",
      "Epoch 22/50\n",
      "257/257 [==============================] - 6s 24ms/step - loss: 0.1467 - accuracy: 0.9506 - val_loss: 0.7046 - val_accuracy: 0.8423 - lr: 0.0010\n",
      "Epoch 23/50\n",
      "257/257 [==============================] - 6s 22ms/step - loss: 0.1548 - accuracy: 0.9480 - val_loss: 0.7401 - val_accuracy: 0.8431 - lr: 0.0010\n",
      "Epoch 24/50\n",
      "257/257 [==============================] - 6s 23ms/step - loss: 0.1576 - accuracy: 0.9478 - val_loss: 0.6591 - val_accuracy: 0.8303 - lr: 0.0010\n",
      "Epoch 25/50\n",
      "257/257 [==============================] - 5s 20ms/step - loss: 0.1525 - accuracy: 0.9542 - val_loss: 0.7082 - val_accuracy: 0.8321 - lr: 0.0010\n",
      "Epoch 26/50\n",
      "257/257 [==============================] - 5s 21ms/step - loss: 0.1343 - accuracy: 0.9542 - val_loss: 0.9655 - val_accuracy: 0.8106 - lr: 0.0010\n",
      "Epoch 27/50\n",
      "257/257 [==============================] - 4s 15ms/step - loss: 0.1339 - accuracy: 0.9592 - val_loss: 0.7776 - val_accuracy: 0.8434 - lr: 0.0010\n",
      "Epoch 28/50\n",
      "257/257 [==============================] - 4s 16ms/step - loss: 0.1586 - accuracy: 0.9513 - val_loss: 0.7024 - val_accuracy: 0.8383 - lr: 0.0010\n",
      "Epoch 29/50\n",
      "257/257 [==============================] - 3s 13ms/step - loss: 0.1240 - accuracy: 0.9573 - val_loss: 0.9020 - val_accuracy: 0.8350 - lr: 0.0010\n",
      "Epoch 30/50\n",
      "257/257 [==============================] - 3s 13ms/step - loss: 0.1766 - accuracy: 0.9497 - val_loss: 0.6530 - val_accuracy: 0.8412 - lr: 0.0010\n",
      "Epoch 31/50\n",
      "257/257 [==============================] - 3s 13ms/step - loss: 0.1226 - accuracy: 0.9609 - val_loss: 0.7990 - val_accuracy: 0.8347 - lr: 0.0010\n",
      "Epoch 32/50\n",
      "257/257 [==============================] - 3s 13ms/step - loss: 0.1117 - accuracy: 0.9647 - val_loss: 0.8332 - val_accuracy: 0.8453 - lr: 0.0010\n",
      "Epoch 33/50\n",
      "257/257 [==============================] - 3s 13ms/step - loss: 0.1287 - accuracy: 0.9566 - val_loss: 0.9362 - val_accuracy: 0.8416 - lr: 0.0010\n",
      "Epoch 34/50\n",
      "257/257 [==============================] - 3s 13ms/step - loss: 0.1068 - accuracy: 0.9670 - val_loss: 0.8193 - val_accuracy: 0.8456 - lr: 0.0010\n",
      "Epoch 35/50\n",
      "257/257 [==============================] - 3s 13ms/step - loss: 0.1108 - accuracy: 0.9653 - val_loss: 0.7961 - val_accuracy: 0.8427 - lr: 0.0010\n",
      "Epoch 36/50\n",
      "257/257 [==============================] - 3s 13ms/step - loss: 0.1040 - accuracy: 0.9695 - val_loss: 0.8410 - val_accuracy: 0.8339 - lr: 0.0010\n",
      "Epoch 37/50\n",
      "257/257 [==============================] - 3s 13ms/step - loss: 0.1177 - accuracy: 0.9646 - val_loss: 0.7498 - val_accuracy: 0.8292 - lr: 0.0010\n",
      "Epoch 38/50\n",
      "257/257 [==============================] - 3s 13ms/step - loss: 0.1023 - accuracy: 0.9691 - val_loss: 0.8831 - val_accuracy: 0.8325 - lr: 0.0010\n",
      "Epoch 39/50\n",
      "257/257 [==============================] - 3s 13ms/step - loss: 0.0879 - accuracy: 0.9735 - val_loss: 0.8282 - val_accuracy: 0.8412 - lr: 0.0010\n",
      "Epoch 40/50\n",
      "257/257 [==============================] - 3s 13ms/step - loss: 0.1166 - accuracy: 0.9626 - val_loss: 0.8590 - val_accuracy: 0.8270 - lr: 0.0010\n",
      "Epoch 41/50\n",
      "257/257 [==============================] - 3s 13ms/step - loss: 0.1009 - accuracy: 0.9652 - val_loss: 0.8569 - val_accuracy: 0.8464 - lr: 0.0010\n",
      "Epoch 42/50\n",
      "257/257 [==============================] - 3s 13ms/step - loss: 0.0954 - accuracy: 0.9715 - val_loss: 0.8288 - val_accuracy: 0.8347 - lr: 0.0010\n",
      "Epoch 43/50\n",
      "257/257 [==============================] - 3s 13ms/step - loss: 0.0789 - accuracy: 0.9759 - val_loss: 0.9218 - val_accuracy: 0.8376 - lr: 0.0010\n",
      "Epoch 44/50\n",
      "257/257 [==============================] - 3s 14ms/step - loss: 0.0871 - accuracy: 0.9736 - val_loss: 0.8271 - val_accuracy: 0.8434 - lr: 0.0010\n",
      "Epoch 45/50\n",
      "257/257 [==============================] - 3s 13ms/step - loss: 0.0928 - accuracy: 0.9723 - val_loss: 0.8145 - val_accuracy: 0.8460 - lr: 0.0010\n",
      "Epoch 46/50\n",
      "257/257 [==============================] - 3s 13ms/step - loss: 0.1086 - accuracy: 0.9691 - val_loss: 0.7479 - val_accuracy: 0.8529 - lr: 0.0010\n",
      "Epoch 47/50\n",
      "257/257 [==============================] - 3s 13ms/step - loss: 0.0825 - accuracy: 0.9723 - val_loss: 0.9227 - val_accuracy: 0.8288 - lr: 0.0010\n",
      "Epoch 48/50\n",
      "256/257 [============================>.] - ETA: 0s - loss: 0.1148 - accuracy: 0.9641\n",
      "Epoch 00048: ReduceLROnPlateau reducing learning rate to 0.0004000000189989805.\n",
      "257/257 [==============================] - 3s 13ms/step - loss: 0.1147 - accuracy: 0.9641 - val_loss: 0.7603 - val_accuracy: 0.8398 - lr: 0.0010\n",
      "Epoch 49/50\n",
      "257/257 [==============================] - 3s 13ms/step - loss: 0.0454 - accuracy: 0.9861 - val_loss: 0.8172 - val_accuracy: 0.8526 - lr: 4.0000e-04\n",
      "Epoch 50/50\n",
      "257/257 [==============================] - 3s 13ms/step - loss: 0.0283 - accuracy: 0.9934 - val_loss: 0.8736 - val_accuracy: 0.8555 - lr: 4.0000e-04\n"
     ]
    }
   ],
   "source": [
    "rlrp = ReduceLROnPlateau(monitor='loss', factor=0.4, verbose=2, patience=5, min_lr=0.0000001)\n",
    "history=model.fit(x_train, y_train, batch_size=32, epochs=50, validation_data=(x_test, y_test), callbacks=[rlrp])"
   ]
  },
  {
   "cell_type": "code",
   "execution_count": null,
   "metadata": {
    "execution": {
     "iopub.execute_input": "2021-09-11T08:47:51.964677Z",
     "iopub.status.busy": "2021-09-11T08:47:51.964355Z",
     "iopub.status.idle": "2021-09-11T08:47:53.239334Z",
     "shell.execute_reply": "2021-09-11T08:47:53.238536Z",
     "shell.execute_reply.started": "2021-09-11T08:47:51.964627Z"
    }
   },
   "outputs": [
    {
     "name": "stdout",
     "output_type": "stream",
     "text": [
      "86/86 [==============================] - 0s 4ms/step - loss: 1.1508 - accuracy: 0.8599\n",
      "Accuracy of our model on test data :  85.98540425300598 %\n"
     ]
    },
    {
     "data": {
      "image/png": "[encoded data removed]",
      "text/plain": [
       "<Figure size 1440x432 with 2 Axes>"
      ]
     },
     "metadata": {
      "needs_background": "light"
     },
     "output_type": "display_data"
    }
   ],
   "source": [
    "print(\"Accuracy of our model on test data : \" , model.evaluate(x_test,y_test)[1]*100 , \"%\")\n",
    "\n",
    "epochs = [i for i in range(100)]\n",
    "fig , ax = plt.subplots(1,2)\n",
    "train_acc = history.history['accuracy']\n",
    "train_loss = history.history['loss']\n",
    "test_acc = history.history['val_accuracy']\n",
    "test_loss = history.history['val_loss']\n",
    "\n",
    "fig.set_size_inches(20,6)\n",
    "ax[0].plot(epochs , train_loss , label = 'Training Loss')\n",
    "ax[0].plot(epochs , test_loss , label = 'Testing Loss')\n",
    "ax[0].set_title('Train Test Loss')\n",
    "ax[0].legend()\n",
    "ax[0].set_xlabel(\"Epochs\")\n",
    "\n",
    "ax[1].plot(epochs , train_acc , label = 'Training Accuracy')\n",
    "ax[1].plot(epochs , test_acc , label = 'Testing Accuracy')\n",
    "ax[1].set_title('Train Test Accuracy')\n",
    "ax[1].legend()\n",
    "ax[1].set_xlabel(\"Epochs\")\n",
    "plt.show()"
   ]
  },
  {
   "cell_type": "code",
   "execution_count": 15,
   "metadata": {
    "execution": {
     "iopub.execute_input": "2021-09-11T08:47:53.241009Z",
     "iopub.status.busy": "2021-09-11T08:47:53.240686Z",
     "iopub.status.idle": "2021-09-11T08:47:53.931285Z",
     "shell.execute_reply": "2021-09-11T08:47:53.930303Z",
     "shell.execute_reply.started": "2021-09-11T08:47:53.240959Z"
    }
   },
   "outputs": [],
   "source": [
    "# predicting on test data.\n",
    "pred_test = model.predict(x_test)\n",
    "y_pred = encoder.inverse_transform(pred_test)\n",
    "\n",
    "y_test = encoder.inverse_transform(y_test)"
   ]
  },
  {
   "cell_type": "code",
   "execution_count": 16,
   "metadata": {
    "execution": {
     "iopub.execute_input": "2021-09-11T08:54:08.301630Z",
     "iopub.status.busy": "2021-09-11T08:54:08.301307Z",
     "iopub.status.idle": "2021-09-11T08:54:08.362631Z",
     "shell.execute_reply": "2021-09-11T08:54:08.361984Z",
     "shell.execute_reply.started": "2021-09-11T08:54:08.301577Z"
    }
   },
   "outputs": [],
   "source": [
    "#model.save(\"RTSH CNN epox.h5\")"
   ]
  },
  {
   "cell_type": "code",
   "execution_count": 17,
   "metadata": {
    "execution": {
     "iopub.execute_input": "2021-09-11T08:47:53.933055Z",
     "iopub.status.busy": "2021-09-11T08:47:53.932763Z",
     "iopub.status.idle": "2021-09-11T08:47:53.955557Z",
     "shell.execute_reply": "2021-09-11T08:47:53.954344Z",
     "shell.execute_reply.started": "2021-09-11T08:47:53.933009Z"
    }
   },
   "outputs": [
    {
     "data": {
      "text/html": [
       "<div>\n",
       "<style scoped>\n",
       "    .dataframe tbody tr th:only-of-type {\n",
       "        vertical-align: middle;\n",
       "    }\n",
       "\n",
       "    .dataframe tbody tr th {\n",
       "        vertical-align: top;\n",
       "    }\n",
       "\n",
       "    .dataframe thead th {\n",
       "        text-align: right;\n",
       "    }\n",
       "</style>\n",
       "<table border=\"1\" class=\"dataframe\">\n",
       "  <thead>\n",
       "    <tr style=\"text-align: right;\">\n",
       "      <th></th>\n",
       "      <th>Predicted Labels</th>\n",
       "      <th>Actual Labels</th>\n",
       "    </tr>\n",
       "  </thead>\n",
       "  <tbody>\n",
       "    <tr>\n",
       "      <th>0</th>\n",
       "      <td>neutral</td>\n",
       "      <td>neutral</td>\n",
       "    </tr>\n",
       "    <tr>\n",
       "      <th>1</th>\n",
       "      <td>disgust</td>\n",
       "      <td>disgust</td>\n",
       "    </tr>\n",
       "    <tr>\n",
       "      <th>2</th>\n",
       "      <td>happy</td>\n",
       "      <td>happy</td>\n",
       "    </tr>\n",
       "    <tr>\n",
       "      <th>3</th>\n",
       "      <td>fear</td>\n",
       "      <td>fear</td>\n",
       "    </tr>\n",
       "    <tr>\n",
       "      <th>4</th>\n",
       "      <td>sad</td>\n",
       "      <td>fear</td>\n",
       "    </tr>\n",
       "    <tr>\n",
       "      <th>5</th>\n",
       "      <td>disgust</td>\n",
       "      <td>disgust</td>\n",
       "    </tr>\n",
       "    <tr>\n",
       "      <th>6</th>\n",
       "      <td>sad</td>\n",
       "      <td>sad</td>\n",
       "    </tr>\n",
       "    <tr>\n",
       "      <th>7</th>\n",
       "      <td>happy</td>\n",
       "      <td>happy</td>\n",
       "    </tr>\n",
       "    <tr>\n",
       "      <th>8</th>\n",
       "      <td>disgust</td>\n",
       "      <td>disgust</td>\n",
       "    </tr>\n",
       "    <tr>\n",
       "      <th>9</th>\n",
       "      <td>sad</td>\n",
       "      <td>sad</td>\n",
       "    </tr>\n",
       "  </tbody>\n",
       "</table>\n",
       "</div>"
      ],
      "text/plain": [
       "  Predicted Labels Actual Labels\n",
       "0          neutral       neutral\n",
       "1          disgust       disgust\n",
       "2            happy         happy\n",
       "3             fear          fear\n",
       "4              sad          fear\n",
       "5          disgust       disgust\n",
       "6              sad           sad\n",
       "7            happy         happy\n",
       "8          disgust       disgust\n",
       "9              sad           sad"
      ]
     },
     "execution_count": 17,
     "metadata": {},
     "output_type": "execute_result"
    }
   ],
   "source": [
    "df = pd.DataFrame(columns=['Predicted Labels', 'Actual Labels'])\n",
    "df['Predicted Labels'] = y_pred.flatten()\n",
    "df['Actual Labels'] = y_test.flatten()\n",
    "\n",
    "df.head(10)"
   ]
  },
  {
   "cell_type": "code",
   "execution_count": 20,
   "metadata": {},
   "outputs": [
    {
     "data": {
      "text/plain": [
       "'# taking any example and checking for techniques.\\npath = np.array(data_path.Path)[1]\\ndata, sample_rate = librosa.load(path)'"
      ]
     },
     "execution_count": 20,
     "metadata": {},
     "output_type": "execute_result"
    }
   ],
   "source": [
    "def noise(data):\n",
    "    noise_amp = 0.035*np.random.uniform()*np.amax(data)\n",
    "    data = data + noise_amp*np.random.normal(size=data.shape[0])\n",
    "    return data\n",
    "\n",
    "def stretch(data, rate=0.8):\n",
    "    return librosa.effects.time_stretch(data, rate)\n",
    "\n",
    "def shift(data):\n",
    "    shift_range = int(np.random.uniform(low=-5, high = 5)*1000)\n",
    "    return np.roll(data, shift_range)\n",
    "\n",
    "def pitch(data, sampling_rate, pitch_factor=0.7):\n",
    "    return librosa.effects.pitch_shift(data, sampling_rate, pitch_factor)\n",
    "\n",
    "'''# taking any example and checking for techniques.\n",
    "path = np.array(data_path.Path)[1]\n",
    "data, sample_rate = librosa.load(path)'''"
   ]
  },
  {
   "cell_type": "code",
   "execution_count": 21,
   "metadata": {},
   "outputs": [],
   "source": [
    "def extract_features(data):\n",
    "    # ZCR\n",
    "    result = np.array([])\n",
    "    zcr = np.mean(librosa.feature.zero_crossing_rate(y=data).T, axis=0)\n",
    "    result=np.hstack((result, zcr)) # stacking horizontally\n",
    "\n",
    "    # Chroma_stft\n",
    "    stft = np.abs(librosa.stft(data))\n",
    "    chroma_stft = np.mean(librosa.feature.chroma_stft(S=stft, sr=sample_rate).T, axis=0)\n",
    "    result = np.hstack((result, chroma_stft)) # stacking horizontally\n",
    "\n",
    "    # MFCC\n",
    "    mfcc = np.mean(librosa.feature.mfcc(y=data, sr=sample_rate).T, axis=0)\n",
    "    result = np.hstack((result, mfcc)) # stacking horizontally\n",
    "\n",
    "    # Root Mean Square Value\n",
    "    rms = np.mean(librosa.feature.rms(y=data).T, axis=0)\n",
    "    result = np.hstack((result, rms)) # stacking horizontally\n",
    "\n",
    "    # MelSpectogram\n",
    "    mel = np.mean(librosa.feature.melspectrogram(y=data, sr=sample_rate).T, axis=0)\n",
    "    result = np.hstack((result, mel)) # stacking horizontally\n",
    "    \n",
    "    return result\n",
    "\n",
    "def get_features(path):\n",
    "    # duration and offset are used to take care of the no audio in start and the ending of each audio files as seen above.\n",
    "    data, sample_rate = librosa.load(path, duration=2.5, offset=0.6)\n",
    "    \n",
    "    # without augmentation\n",
    "    res1 = extract_features(data)\n",
    "    result = np.array(res1)\n",
    "    \n",
    "    # data with noise\n",
    "    '''noise_data = noise(data)\n",
    "    res2 = extract_features(noise_data)\n",
    "    result = np.vstack((result, res2)) # stacking vertically'''\n",
    "    \n",
    "    # data with stretching and pitching\n",
    "    new_data = stretch(data)\n",
    "    data_stretch_pitch = pitch(new_data, sample_rate)\n",
    "    res3 = extract_features(data_stretch_pitch)\n",
    "    result = np.vstack((result, res3)) # stacking vertically\n",
    "    \n",
    "    return result"
   ]
  },
  {
   "cell_type": "code",
   "execution_count": 46,
   "metadata": {},
   "outputs": [
    {
     "data": {
      "text/plain": [
       "'predicted_label=model.predict(result)\\nprint(predicted_label)\\nclasses_x=np.argmax(predicted_label,axis=1)\\nprediction_class = labelencoder.inverse_transform(classes_x)\\nprediction_class'"
      ]
     },
     "execution_count": 46,
     "metadata": {},
     "output_type": "execute_result"
    }
   ],
   "source": [
    "filename=\"C:\\All_Files\\BE Project\\Ravdess\\RavdessSong\\Actor_02\\\\03-02-03-02-01-01-02.wav\"\n",
    "data, sample_rate = librosa.load(filename, res_type='kaiser_fast')\n",
    "\n",
    "# ZCR\n",
    "result = np.array([])\n",
    "zcr = np.mean(librosa.feature.zero_crossing_rate(y=data).T, axis=0)\n",
    "result=np.hstack((result, zcr)) # stacking horizontally\n",
    "\n",
    "# Chroma_stft\n",
    "stft = np.abs(librosa.stft(data))\n",
    "chroma_stft = np.mean(librosa.feature.chroma_stft(S=stft, sr=sample_rate).T, axis=0)\n",
    "result = np.hstack((result, chroma_stft)) # stacking horizontally\n",
    "\n",
    "# MFCC\n",
    "mfcc = np.mean(librosa.feature.mfcc(y=data, sr=sample_rate).T, axis=0)\n",
    "result = np.hstack((result, mfcc)) # stacking horizontally\n",
    "\n",
    "# Root Mean Square Value\n",
    "rms = np.mean(librosa.feature.rms(y=data).T, axis=0)\n",
    "result = np.hstack((result, rms)) # stacking horizontally\n",
    "\n",
    "# MelSpectogram\n",
    "mel = np.mean(librosa.feature.melspectrogram(y=data, sr=sample_rate).T, axis=0)\n",
    "result = np.hstack((result, mel)) # stacking horizontally\n",
    "\n",
    "'''mfccs_features = librosa.feature.mfcc(y=audio, sr=sample_rate, n_mfcc=40)\n",
    "mfccs_scaled_features = np.mean(mfccs_features.T,axis=0)'''\n",
    "\n",
    "\n",
    "#mfccs_scaled_features=mfccs_scaled_features.reshape(1,-1)\n",
    "'''print(mfccs_scaled_features)\n",
    "print(mfccs_scaled_features.shape)'''\n",
    "\n",
    "'''predicted_label=model.predict(result)\n",
    "print(predicted_label)\n",
    "classes_x=np.argmax(predicted_label,axis=1)\n",
    "prediction_class = labelencoder.inverse_transform(classes_x)\n",
    "prediction_class'''"
   ]
  },
  {
   "cell_type": "code",
   "execution_count": null,
   "metadata": {},
   "outputs": [],
   "source": [
    "predicted_label=model.predict(result)\n",
    "print(predicted_label)\n",
    "classes_x=np.argmax(predicted_label,axis=1)\n",
    "prediction_class = labelencoder.inverse_transform(classes_x)\n",
    "prediction_class"
   ]
  },
  {
   "cell_type": "code",
   "execution_count": 1,
   "metadata": {},
   "outputs": [
    {
     "ename": "NameError",
     "evalue": "name 'result' is not defined",
     "output_type": "error",
     "traceback": [
      "\u001b[1;31m---------------------------------------------------------------------------\u001b[0m",
      "\u001b[1;31mNameError\u001b[0m                                 Traceback (most recent call last)",
      "\u001b[1;32mc:\\Users\\Onkar Raut\\Desktop\\WebApp\\Models\\RTSH cnn csv predict.ipynb Cell 22'\u001b[0m in \u001b[0;36m<cell line: 1>\u001b[1;34m()\u001b[0m\n\u001b[1;32m----> <a href='vscode-notebook-cell:/c%3A/Users/Onkar%20Raut/Desktop/WebApp/Models/RTSH%20cnn%20csv%20predict.ipynb#ch0000021?line=0'>1</a>\u001b[0m result\u001b[39m.\u001b[39mshape\n\u001b[0;32m      <a href='vscode-notebook-cell:/c%3A/Users/Onkar%20Raut/Desktop/WebApp/Models/RTSH%20cnn%20csv%20predict.ipynb#ch0000021?line=1'>2</a>\u001b[0m result \u001b[39m=\u001b[39m np\u001b[39m.\u001b[39mexpand_dims(result, axis\u001b[39m=\u001b[39m\u001b[39m1\u001b[39m)\n",
      "\u001b[1;31mNameError\u001b[0m: name 'result' is not defined"
     ]
    }
   ],
   "source": [
    "result.shape\n",
    "result = np.expand_dims(result, axis=1)"
   ]
  },
  {
   "cell_type": "code",
   "execution_count": 48,
   "metadata": {},
   "outputs": [
    {
     "data": {
      "text/plain": [
       "(162, 1)"
      ]
     },
     "execution_count": 48,
     "metadata": {},
     "output_type": "execute_result"
    }
   ],
   "source": [
    "result.shape"
   ]
  },
  {
   "cell_type": "code",
   "execution_count": 49,
   "metadata": {},
   "outputs": [],
   "source": [
    "predicted_label=model.predict(result)"
   ]
  },
  {
   "cell_type": "code",
   "execution_count": 50,
   "metadata": {},
   "outputs": [
    {
     "name": "stdout",
     "output_type": "stream",
     "text": [
      "Accuracy:  52.430713176727295 %\n",
      "disgust\n"
     ]
    }
   ],
   "source": [
    "dic = {0:'angry',1: 'calm',2: 'disgust',3: 'fear',4: 'happy', 5:'neutral',6:'sad',7:'surprise'}\n",
    "classes_x=np.argmax(predicted_label,axis=1)\n",
    "accuracy=float(np.max(predicted_label,axis=1)[0])\n",
    "print(\"Accuracy: \",accuracy*100 ,\"%\")\n",
    "print(dic[classes_x[0]])"
   ]
  }
 ],
 "metadata": {
  "interpreter": {
   "hash": "e5a556bc4f8294f95b90ee2e44513fe97e0e48f954e3b624f06bdf48c20f2f5d"
  },
  "kernelspec": {
   "display_name": "Python 3.9.1 64-bit",
   "name": "python3"
  },
  "language_info": {
   "codemirror_mode": {
    "name": "ipython",
    "version": 3
   },
   "file_extension": ".py",
   "mimetype": "text/x-python",
   "name": "python",
   "nbconvert_exporter": "python",
   "pygments_lexer": "ipython3",
   "version": "3.10.4"
  }
 },
 "nbformat": 4,
 "nbformat_minor": 4
}
