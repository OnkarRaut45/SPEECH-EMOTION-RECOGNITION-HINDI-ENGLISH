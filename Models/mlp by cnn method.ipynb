{
 "cells": [
  {
   "cell_type": "code",
   "execution_count": 8,
   "metadata": {
    "execution": {
     "iopub.execute_input": "2021-09-11T08:01:56.444975Z",
     "iopub.status.busy": "2021-09-11T08:01:56.444666Z",
     "iopub.status.idle": "2021-09-11T08:01:56.452990Z",
     "shell.execute_reply": "2021-09-11T08:01:56.452226Z",
     "shell.execute_reply.started": "2021-09-11T08:01:56.444927Z"
    }
   },
   "outputs": [],
   "source": [
    "import pandas as pd\n",
    "import numpy as np\n",
    "\n",
    "import os\n",
    "import sys\n",
    "\n",
    "import librosa\n",
    "import librosa.display\n",
    "\n",
    "import seaborn as sns\n",
    "import matplotlib.pyplot as plt\n",
    "\n",
    "from sklearn.preprocessing import StandardScaler, OneHotEncoder\n",
    "from sklearn.metrics import confusion_matrix, classification_report\n",
    "from sklearn.model_selection import train_test_split\n",
    "from IPython.display import Audio\n",
    "import keras\n",
    "from keras.callbacks import ReduceLROnPlateau\n",
    "from keras.models import Sequential\n",
    "from keras.layers import Dense, Conv1D, MaxPooling1D, Flatten, Dropout, BatchNormalization\n",
    "from keras.utils import np_utils\n",
    "from tensorflow.keras.utils import to_categorical\n",
    "from keras.callbacks import ModelCheckpoint\n",
    "\n",
    "import warnings\n",
    "if not sys.warnoptions:\n",
    "    warnings.simplefilter(\"ignore\")\n",
    "warnings.filterwarnings(\"ignore\", category=DeprecationWarning) \n"
   ]
  },
  {
   "cell_type": "code",
   "execution_count": 9,
   "metadata": {
    "execution": {
     "iopub.execute_input": "2021-09-11T08:01:56.555305Z",
     "iopub.status.busy": "2021-09-11T08:01:56.555080Z",
     "iopub.status.idle": "2021-09-11T08:01:56.560075Z",
     "shell.execute_reply": "2021-09-11T08:01:56.559276Z",
     "shell.execute_reply.started": "2021-09-11T08:01:56.555262Z"
    }
   },
   "outputs": [],
   "source": [
    "Savee = \"C:\\All_Files\\BE Project\\Savee\\ALL/\"\n",
    "Tess = \"C:\\All_Files\\BE Project\\Tess\\TESS Toronto emotional speech set data/\"\n",
    "Ravdess = \"C:\\All_Files\\BE Project\\Ravdess\\RavdessSpeech/\"\n",
    "Hindi=\"C:\\All_Files\\BE Project\\DataSet\\\\\"\n",
    "Crema = \"C:\\All_Files\\BE Project\\Cremad\\AudioWAV/\"\n"
   ]
  },
  {
   "cell_type": "code",
   "execution_count": 10,
   "metadata": {},
   "outputs": [
    {
     "data": {
      "text/html": [
       "<div>\n",
       "<style scoped>\n",
       "    .dataframe tbody tr th:only-of-type {\n",
       "        vertical-align: middle;\n",
       "    }\n",
       "\n",
       "    .dataframe tbody tr th {\n",
       "        vertical-align: top;\n",
       "    }\n",
       "\n",
       "    .dataframe thead th {\n",
       "        text-align: right;\n",
       "    }\n",
       "</style>\n",
       "<table border=\"1\" class=\"dataframe\">\n",
       "  <thead>\n",
       "    <tr style=\"text-align: right;\">\n",
       "      <th></th>\n",
       "      <th>Emotions</th>\n",
       "      <th>Path</th>\n",
       "    </tr>\n",
       "  </thead>\n",
       "  <tbody>\n",
       "    <tr>\n",
       "      <th>0</th>\n",
       "      <td>angry</td>\n",
       "      <td>C:\\All_Files\\BE Project\\Tess\\TESS Toronto emot...</td>\n",
       "    </tr>\n",
       "    <tr>\n",
       "      <th>1</th>\n",
       "      <td>angry</td>\n",
       "      <td>C:\\All_Files\\BE Project\\Tess\\TESS Toronto emot...</td>\n",
       "    </tr>\n",
       "    <tr>\n",
       "      <th>2</th>\n",
       "      <td>angry</td>\n",
       "      <td>C:\\All_Files\\BE Project\\Tess\\TESS Toronto emot...</td>\n",
       "    </tr>\n",
       "    <tr>\n",
       "      <th>3</th>\n",
       "      <td>angry</td>\n",
       "      <td>C:\\All_Files\\BE Project\\Tess\\TESS Toronto emot...</td>\n",
       "    </tr>\n",
       "    <tr>\n",
       "      <th>4</th>\n",
       "      <td>angry</td>\n",
       "      <td>C:\\All_Files\\BE Project\\Tess\\TESS Toronto emot...</td>\n",
       "    </tr>\n",
       "  </tbody>\n",
       "</table>\n",
       "</div>"
      ],
      "text/plain": [
       "  Emotions                                               Path\n",
       "0    angry  C:\\All_Files\\BE Project\\Tess\\TESS Toronto emot...\n",
       "1    angry  C:\\All_Files\\BE Project\\Tess\\TESS Toronto emot...\n",
       "2    angry  C:\\All_Files\\BE Project\\Tess\\TESS Toronto emot...\n",
       "3    angry  C:\\All_Files\\BE Project\\Tess\\TESS Toronto emot...\n",
       "4    angry  C:\\All_Files\\BE Project\\Tess\\TESS Toronto emot..."
      ]
     },
     "execution_count": 10,
     "metadata": {},
     "output_type": "execute_result"
    }
   ],
   "source": [
    "tess_directory_list = os.listdir(Tess)\n",
    "\n",
    "file_emotion = []\n",
    "file_path = []\n",
    "\n",
    "for dir in tess_directory_list:\n",
    "    directories = os.listdir(Tess + dir)\n",
    "    for file in directories:\n",
    "        part = file.split('.')[0]\n",
    "        part = part.split('_')[2]\n",
    "        if part=='ps':\n",
    "            file_emotion.append('surprise')\n",
    "        else:\n",
    "            file_emotion.append(part)\n",
    "        file_path.append(Tess + dir + '/' + file)\n",
    "\n",
    "emotion_df = pd.DataFrame(file_emotion, columns=['Emotions'])\n",
    "\n",
    "path_df = pd.DataFrame(file_path, columns=['Path'])\n",
    "Tess_df = pd.concat([emotion_df, path_df], axis=1)\n",
    "Tess_df.head()"
   ]
  },
  {
   "cell_type": "code",
   "execution_count": 11,
   "metadata": {},
   "outputs": [
    {
     "data": {
      "text/html": [
       "<div>\n",
       "<style scoped>\n",
       "    .dataframe tbody tr th:only-of-type {\n",
       "        vertical-align: middle;\n",
       "    }\n",
       "\n",
       "    .dataframe tbody tr th {\n",
       "        vertical-align: top;\n",
       "    }\n",
       "\n",
       "    .dataframe thead th {\n",
       "        text-align: right;\n",
       "    }\n",
       "</style>\n",
       "<table border=\"1\" class=\"dataframe\">\n",
       "  <thead>\n",
       "    <tr style=\"text-align: right;\">\n",
       "      <th></th>\n",
       "      <th>Emotions</th>\n",
       "      <th>Path</th>\n",
       "    </tr>\n",
       "  </thead>\n",
       "  <tbody>\n",
       "    <tr>\n",
       "      <th>0</th>\n",
       "      <td>angry</td>\n",
       "      <td>C:\\All_Files\\BE Project\\Cremad\\AudioWAV/1001_D...</td>\n",
       "    </tr>\n",
       "    <tr>\n",
       "      <th>1</th>\n",
       "      <td>disgust</td>\n",
       "      <td>C:\\All_Files\\BE Project\\Cremad\\AudioWAV/1001_D...</td>\n",
       "    </tr>\n",
       "    <tr>\n",
       "      <th>2</th>\n",
       "      <td>fear</td>\n",
       "      <td>C:\\All_Files\\BE Project\\Cremad\\AudioWAV/1001_D...</td>\n",
       "    </tr>\n",
       "    <tr>\n",
       "      <th>3</th>\n",
       "      <td>happy</td>\n",
       "      <td>C:\\All_Files\\BE Project\\Cremad\\AudioWAV/1001_D...</td>\n",
       "    </tr>\n",
       "    <tr>\n",
       "      <th>4</th>\n",
       "      <td>neutral</td>\n",
       "      <td>C:\\All_Files\\BE Project\\Cremad\\AudioWAV/1001_D...</td>\n",
       "    </tr>\n",
       "  </tbody>\n",
       "</table>\n",
       "</div>"
      ],
      "text/plain": [
       "  Emotions                                               Path\n",
       "0    angry  C:\\All_Files\\BE Project\\Cremad\\AudioWAV/1001_D...\n",
       "1  disgust  C:\\All_Files\\BE Project\\Cremad\\AudioWAV/1001_D...\n",
       "2     fear  C:\\All_Files\\BE Project\\Cremad\\AudioWAV/1001_D...\n",
       "3    happy  C:\\All_Files\\BE Project\\Cremad\\AudioWAV/1001_D...\n",
       "4  neutral  C:\\All_Files\\BE Project\\Cremad\\AudioWAV/1001_D..."
      ]
     },
     "execution_count": 11,
     "metadata": {},
     "output_type": "execute_result"
    }
   ],
   "source": [
    "crema_directory_list = os.listdir(Crema)\n",
    "\n",
    "file_emotion = []\n",
    "file_path = []\n",
    "\n",
    "for file in crema_directory_list:\n",
    "    file_path.append(Crema + file)\n",
    "\n",
    "    part=file.split('_')\n",
    "    if part[2] == 'SAD':\n",
    "        file_emotion.append('sad')\n",
    "    elif part[2] == 'ANG':\n",
    "        file_emotion.append('angry')\n",
    "    elif part[2] == 'DIS':\n",
    "        file_emotion.append('disgust')\n",
    "    elif part[2] == 'FEA':\n",
    "        file_emotion.append('fear')\n",
    "    elif part[2] == 'HAP':\n",
    "        file_emotion.append('happy')\n",
    "    elif part[2] == 'NEU':\n",
    "        file_emotion.append('neutral')\n",
    "    else:\n",
    "        file_emotion.append('Unknown')\n",
    "        \n",
    "emotion_df = pd.DataFrame(file_emotion, columns=['Emotions'])\n",
    "\n",
    "path_df = pd.DataFrame(file_path, columns=['Path'])\n",
    "Crema_df = pd.concat([emotion_df, path_df], axis=1)\n",
    "Crema_df.head()"
   ]
  },
  {
   "cell_type": "code",
   "execution_count": 12,
   "metadata": {},
   "outputs": [
    {
     "data": {
      "text/html": [
       "<div>\n",
       "<style scoped>\n",
       "    .dataframe tbody tr th:only-of-type {\n",
       "        vertical-align: middle;\n",
       "    }\n",
       "\n",
       "    .dataframe tbody tr th {\n",
       "        vertical-align: top;\n",
       "    }\n",
       "\n",
       "    .dataframe thead th {\n",
       "        text-align: right;\n",
       "    }\n",
       "</style>\n",
       "<table border=\"1\" class=\"dataframe\">\n",
       "  <thead>\n",
       "    <tr style=\"text-align: right;\">\n",
       "      <th></th>\n",
       "      <th>Emotions</th>\n",
       "      <th>Path</th>\n",
       "    </tr>\n",
       "  </thead>\n",
       "  <tbody>\n",
       "    <tr>\n",
       "      <th>0</th>\n",
       "      <td>angry</td>\n",
       "      <td>C:\\All_Files\\BE Project\\DataSet\\angry_10_1.wav</td>\n",
       "    </tr>\n",
       "    <tr>\n",
       "      <th>1</th>\n",
       "      <td>angry</td>\n",
       "      <td>C:\\All_Files\\BE Project\\DataSet\\angry_10_10.wav</td>\n",
       "    </tr>\n",
       "    <tr>\n",
       "      <th>2</th>\n",
       "      <td>angry</td>\n",
       "      <td>C:\\All_Files\\BE Project\\DataSet\\angry_10_11.wav</td>\n",
       "    </tr>\n",
       "    <tr>\n",
       "      <th>3</th>\n",
       "      <td>angry</td>\n",
       "      <td>C:\\All_Files\\BE Project\\DataSet\\angry_10_12.wav</td>\n",
       "    </tr>\n",
       "    <tr>\n",
       "      <th>4</th>\n",
       "      <td>angry</td>\n",
       "      <td>C:\\All_Files\\BE Project\\DataSet\\angry_10_13.wav</td>\n",
       "    </tr>\n",
       "  </tbody>\n",
       "</table>\n",
       "</div>"
      ],
      "text/plain": [
       "  Emotions                                             Path\n",
       "0    angry   C:\\All_Files\\BE Project\\DataSet\\angry_10_1.wav\n",
       "1    angry  C:\\All_Files\\BE Project\\DataSet\\angry_10_10.wav\n",
       "2    angry  C:\\All_Files\\BE Project\\DataSet\\angry_10_11.wav\n",
       "3    angry  C:\\All_Files\\BE Project\\DataSet\\angry_10_12.wav\n",
       "4    angry  C:\\All_Files\\BE Project\\DataSet\\angry_10_13.wav"
      ]
     },
     "execution_count": 12,
     "metadata": {},
     "output_type": "execute_result"
    }
   ],
   "source": [
    "hindi_directory_list=os.listdir(Hindi)\n",
    "\n",
    "file_emotion = []\n",
    "file_path = []\n",
    "for file in hindi_directory_list:\n",
    "    part = file.split('_')\n",
    "    file_emotion.append(part[0])\n",
    "    file_path.append(Hindi + file)\n",
    "        \n",
    "emotion_df = pd.DataFrame(file_emotion, columns=['Emotions'])\n",
    "\n",
    "path_df = pd.DataFrame(file_path, columns=['Path'])\n",
    "Hindi_df = pd.concat([emotion_df, path_df], axis=1)\n",
    "\n",
    "Hindi_df.head()"
   ]
  },
  {
   "cell_type": "code",
   "execution_count": 13,
   "metadata": {
    "execution": {
     "iopub.execute_input": "2021-09-11T08:01:56.959205Z",
     "iopub.status.busy": "2021-09-11T08:01:56.958992Z",
     "iopub.status.idle": "2021-09-11T08:01:56.978251Z",
     "shell.execute_reply": "2021-09-11T08:01:56.977341Z",
     "shell.execute_reply.started": "2021-09-11T08:01:56.959166Z"
    }
   },
   "outputs": [
    {
     "data": {
      "text/html": [
       "<div>\n",
       "<style scoped>\n",
       "    .dataframe tbody tr th:only-of-type {\n",
       "        vertical-align: middle;\n",
       "    }\n",
       "\n",
       "    .dataframe tbody tr th {\n",
       "        vertical-align: top;\n",
       "    }\n",
       "\n",
       "    .dataframe thead th {\n",
       "        text-align: right;\n",
       "    }\n",
       "</style>\n",
       "<table border=\"1\" class=\"dataframe\">\n",
       "  <thead>\n",
       "    <tr style=\"text-align: right;\">\n",
       "      <th></th>\n",
       "      <th>Emotions</th>\n",
       "      <th>Path</th>\n",
       "    </tr>\n",
       "  </thead>\n",
       "  <tbody>\n",
       "    <tr>\n",
       "      <th>0</th>\n",
       "      <td>angry</td>\n",
       "      <td>C:\\All_Files\\BE Project\\Savee\\ALL/DC_a01.wav</td>\n",
       "    </tr>\n",
       "    <tr>\n",
       "      <th>1</th>\n",
       "      <td>angry</td>\n",
       "      <td>C:\\All_Files\\BE Project\\Savee\\ALL/DC_a02.wav</td>\n",
       "    </tr>\n",
       "    <tr>\n",
       "      <th>2</th>\n",
       "      <td>angry</td>\n",
       "      <td>C:\\All_Files\\BE Project\\Savee\\ALL/DC_a03.wav</td>\n",
       "    </tr>\n",
       "    <tr>\n",
       "      <th>3</th>\n",
       "      <td>angry</td>\n",
       "      <td>C:\\All_Files\\BE Project\\Savee\\ALL/DC_a04.wav</td>\n",
       "    </tr>\n",
       "    <tr>\n",
       "      <th>4</th>\n",
       "      <td>angry</td>\n",
       "      <td>C:\\All_Files\\BE Project\\Savee\\ALL/DC_a05.wav</td>\n",
       "    </tr>\n",
       "  </tbody>\n",
       "</table>\n",
       "</div>"
      ],
      "text/plain": [
       "  Emotions                                          Path\n",
       "0    angry  C:\\All_Files\\BE Project\\Savee\\ALL/DC_a01.wav\n",
       "1    angry  C:\\All_Files\\BE Project\\Savee\\ALL/DC_a02.wav\n",
       "2    angry  C:\\All_Files\\BE Project\\Savee\\ALL/DC_a03.wav\n",
       "3    angry  C:\\All_Files\\BE Project\\Savee\\ALL/DC_a04.wav\n",
       "4    angry  C:\\All_Files\\BE Project\\Savee\\ALL/DC_a05.wav"
      ]
     },
     "execution_count": 13,
     "metadata": {},
     "output_type": "execute_result"
    }
   ],
   "source": [
    "savee_directory_list = os.listdir(Savee)\n",
    "\n",
    "file_emotion = []\n",
    "file_path = []\n",
    "\n",
    "for file in savee_directory_list:\n",
    "    file_path.append(Savee + file)\n",
    "    part = file.split('_')[1]\n",
    "    ele = part[:-6]\n",
    "    if ele=='a':\n",
    "        file_emotion.append('angry')\n",
    "    elif ele=='d':\n",
    "        file_emotion.append('disgust')\n",
    "    elif ele=='f':\n",
    "        file_emotion.append('fear')\n",
    "    elif ele=='h':\n",
    "        file_emotion.append('happy')\n",
    "    elif ele=='n':\n",
    "        file_emotion.append('neutral')\n",
    "    elif ele=='sa':\n",
    "        file_emotion.append('sad')\n",
    "    else:\n",
    "        file_emotion.append('surprise')\n",
    "        \n",
    "\n",
    "emotion_df = pd.DataFrame(file_emotion, columns=['Emotions'])\n",
    "\n",
    "\n",
    "path_df = pd.DataFrame(file_path, columns=['Path'])\n",
    "Savee_df = pd.concat([emotion_df, path_df], axis=1)\n",
    "Savee_df.head()"
   ]
  },
  {
   "cell_type": "code",
   "execution_count": 14,
   "metadata": {},
   "outputs": [
    {
     "data": {
      "text/html": [
       "<div>\n",
       "<style scoped>\n",
       "    .dataframe tbody tr th:only-of-type {\n",
       "        vertical-align: middle;\n",
       "    }\n",
       "\n",
       "    .dataframe tbody tr th {\n",
       "        vertical-align: top;\n",
       "    }\n",
       "\n",
       "    .dataframe thead th {\n",
       "        text-align: right;\n",
       "    }\n",
       "</style>\n",
       "<table border=\"1\" class=\"dataframe\">\n",
       "  <thead>\n",
       "    <tr style=\"text-align: right;\">\n",
       "      <th></th>\n",
       "      <th>Emotions</th>\n",
       "      <th>Path</th>\n",
       "    </tr>\n",
       "  </thead>\n",
       "  <tbody>\n",
       "    <tr>\n",
       "      <th>0</th>\n",
       "      <td>neutral</td>\n",
       "      <td>C:\\All_Files\\BE Project\\Ravdess\\RavdessSpeech/...</td>\n",
       "    </tr>\n",
       "    <tr>\n",
       "      <th>1</th>\n",
       "      <td>neutral</td>\n",
       "      <td>C:\\All_Files\\BE Project\\Ravdess\\RavdessSpeech/...</td>\n",
       "    </tr>\n",
       "    <tr>\n",
       "      <th>2</th>\n",
       "      <td>neutral</td>\n",
       "      <td>C:\\All_Files\\BE Project\\Ravdess\\RavdessSpeech/...</td>\n",
       "    </tr>\n",
       "    <tr>\n",
       "      <th>3</th>\n",
       "      <td>neutral</td>\n",
       "      <td>C:\\All_Files\\BE Project\\Ravdess\\RavdessSpeech/...</td>\n",
       "    </tr>\n",
       "    <tr>\n",
       "      <th>4</th>\n",
       "      <td>calm</td>\n",
       "      <td>C:\\All_Files\\BE Project\\Ravdess\\RavdessSpeech/...</td>\n",
       "    </tr>\n",
       "  </tbody>\n",
       "</table>\n",
       "</div>"
      ],
      "text/plain": [
       "  Emotions                                               Path\n",
       "0  neutral  C:\\All_Files\\BE Project\\Ravdess\\RavdessSpeech/...\n",
       "1  neutral  C:\\All_Files\\BE Project\\Ravdess\\RavdessSpeech/...\n",
       "2  neutral  C:\\All_Files\\BE Project\\Ravdess\\RavdessSpeech/...\n",
       "3  neutral  C:\\All_Files\\BE Project\\Ravdess\\RavdessSpeech/...\n",
       "4     calm  C:\\All_Files\\BE Project\\Ravdess\\RavdessSpeech/..."
      ]
     },
     "execution_count": 14,
     "metadata": {},
     "output_type": "execute_result"
    }
   ],
   "source": [
    "ravdess_directory_list = os.listdir(Ravdess)\n",
    "\n",
    "file_emotion = []\n",
    "file_path = []\n",
    "for dir in ravdess_directory_list:\n",
    "    actor = os.listdir(Ravdess + dir)\n",
    "    for file in actor:\n",
    "        part = file.split('.')[0]\n",
    "        part = part.split('-')\n",
    "        file_emotion.append(int(part[2]))\n",
    "        file_path.append(Ravdess + dir + '/' + file)\n",
    "        \n",
    "emotion_df = pd.DataFrame(file_emotion, columns=['Emotions'])\n",
    "\n",
    "path_df = pd.DataFrame(file_path, columns=['Path'])\n",
    "Ravdess_df = pd.concat([emotion_df, path_df], axis=1)\n",
    "\n",
    "Ravdess_df.Emotions.replace({1:'neutral', 2:'calm', 3:'happy', 4:'sad', 5:'angry', 6:'fear', 7:'disgust', 8:'surprise'}, inplace=True)\n",
    "Ravdess_df.head()"
   ]
  },
  {
   "cell_type": "code",
   "execution_count": 15,
   "metadata": {
    "execution": {
     "iopub.execute_input": "2021-09-11T08:01:57.052378Z",
     "iopub.status.busy": "2021-09-11T08:01:57.052152Z",
     "iopub.status.idle": "2021-09-11T08:01:57.123637Z",
     "shell.execute_reply": "2021-09-11T08:01:57.122665Z",
     "shell.execute_reply.started": "2021-09-11T08:01:57.052335Z"
    }
   },
   "outputs": [
    {
     "data": {
      "text/html": [
       "<div>\n",
       "<style scoped>\n",
       "    .dataframe tbody tr th:only-of-type {\n",
       "        vertical-align: middle;\n",
       "    }\n",
       "\n",
       "    .dataframe tbody tr th {\n",
       "        vertical-align: top;\n",
       "    }\n",
       "\n",
       "    .dataframe thead th {\n",
       "        text-align: right;\n",
       "    }\n",
       "</style>\n",
       "<table border=\"1\" class=\"dataframe\">\n",
       "  <thead>\n",
       "    <tr style=\"text-align: right;\">\n",
       "      <th></th>\n",
       "      <th>Emotions</th>\n",
       "      <th>Path</th>\n",
       "    </tr>\n",
       "  </thead>\n",
       "  <tbody>\n",
       "    <tr>\n",
       "      <th>0</th>\n",
       "      <td>angry</td>\n",
       "      <td>C:\\All_Files\\BE Project\\Savee\\ALL/DC_a01.wav</td>\n",
       "    </tr>\n",
       "    <tr>\n",
       "      <th>1</th>\n",
       "      <td>angry</td>\n",
       "      <td>C:\\All_Files\\BE Project\\Savee\\ALL/DC_a02.wav</td>\n",
       "    </tr>\n",
       "    <tr>\n",
       "      <th>2</th>\n",
       "      <td>angry</td>\n",
       "      <td>C:\\All_Files\\BE Project\\Savee\\ALL/DC_a03.wav</td>\n",
       "    </tr>\n",
       "    <tr>\n",
       "      <th>3</th>\n",
       "      <td>angry</td>\n",
       "      <td>C:\\All_Files\\BE Project\\Savee\\ALL/DC_a04.wav</td>\n",
       "    </tr>\n",
       "    <tr>\n",
       "      <th>4</th>\n",
       "      <td>angry</td>\n",
       "      <td>C:\\All_Files\\BE Project\\Savee\\ALL/DC_a05.wav</td>\n",
       "    </tr>\n",
       "  </tbody>\n",
       "</table>\n",
       "</div>"
      ],
      "text/plain": [
       "  Emotions                                          Path\n",
       "0    angry  C:\\All_Files\\BE Project\\Savee\\ALL/DC_a01.wav\n",
       "1    angry  C:\\All_Files\\BE Project\\Savee\\ALL/DC_a02.wav\n",
       "2    angry  C:\\All_Files\\BE Project\\Savee\\ALL/DC_a03.wav\n",
       "3    angry  C:\\All_Files\\BE Project\\Savee\\ALL/DC_a04.wav\n",
       "4    angry  C:\\All_Files\\BE Project\\Savee\\ALL/DC_a05.wav"
      ]
     },
     "execution_count": 15,
     "metadata": {},
     "output_type": "execute_result"
    }
   ],
   "source": [
    "#Combining all 4 ddatasets and forming their datapaths in csv file\n",
    "data_path = pd.concat([Savee_df,Ravdess_df,Tess_df,Crema_df,Hindi_df], axis = 0)\n",
    "data_path.to_csv(\"data_path.csv\",index=False)\n",
    "data_path.head()"
   ]
  },
  {
   "cell_type": "code",
   "execution_count": 16,
   "metadata": {
    "execution": {
     "iopub.execute_input": "2021-09-11T08:01:57.157414Z",
     "iopub.status.busy": "2021-09-11T08:01:57.157184Z",
     "iopub.status.idle": "2021-09-11T08:01:57.309604Z",
     "shell.execute_reply": "2021-09-11T08:01:57.308642Z",
     "shell.execute_reply.started": "2021-09-11T08:01:57.157370Z"
    }
   },
   "outputs": [
    {
     "data": {
      "image/png": "[encoded data removed]",
      "text/plain": [
       "<Figure size 432x288 with 1 Axes>"
      ]
     },
     "metadata": {
      "needs_background": "light"
     },
     "output_type": "display_data"
    }
   ],
   "source": [
    "plt.title('Count of Emotions', size=16)\n",
    "sns.countplot(data_path.Emotions)\n",
    "plt.ylabel('Count', size=12)\n",
    "plt.xlabel('Emotions', size=12)\n",
    "sns.despine(top=True, right=True, left=False, bottom=False)\n",
    "plt.show()"
   ]
  },
  {
   "cell_type": "code",
   "execution_count": 17,
   "metadata": {
    "execution": {
     "iopub.execute_input": "2021-09-11T08:01:57.311732Z",
     "iopub.status.busy": "2021-09-11T08:01:57.311274Z",
     "iopub.status.idle": "2021-09-11T08:01:57.320294Z",
     "shell.execute_reply": "2021-09-11T08:01:57.319186Z",
     "shell.execute_reply.started": "2021-09-11T08:01:57.311516Z"
    }
   },
   "outputs": [],
   "source": [
    "def create_waveplot(data, sr, e):\n",
    "    plt.figure(figsize=(10, 3))\n",
    "    plt.title('Waveplot for audio with {} emotion'.format(e), size=15)\n",
    "    librosa.display.waveplot(data, sr=sr)\n",
    "    plt.show()\n",
    "\n",
    "def create_spectrogram(data, sr, e):\n",
    "    X = librosa.stft(data)\n",
    "    Xdb = librosa.amplitude_to_db(abs(X))\n",
    "    plt.figure(figsize=(12, 3))\n",
    "    plt.title('Spectrogram for audio with {} emotion'.format(e), size=15)\n",
    "    librosa.display.specshow(Xdb, sr=sr, x_axis='time', y_axis='hz')   \n",
    "    #librosa.display.specshow(Xdb, sr=sr, x_axis='time', y_axis='log')\n",
    "    plt.colorbar()"
   ]
  },
  {
   "cell_type": "code",
   "execution_count": 18,
   "metadata": {
    "execution": {
     "iopub.execute_input": "2021-09-11T08:02:00.156851Z",
     "iopub.status.busy": "2021-09-11T08:02:00.156391Z",
     "iopub.status.idle": "2021-09-11T08:02:00.309694Z",
     "shell.execute_reply": "2021-09-11T08:02:00.308929Z",
     "shell.execute_reply.started": "2021-09-11T08:02:00.156651Z"
    }
   },
   "outputs": [],
   "source": [
    "'''def noise(data):\n",
    "    noise_amp = 0.035*np.random.uniform()*np.amax(data)\n",
    "    data = data + noise_amp*np.random.normal(size=data.shape[0])\n",
    "    return data'''\n",
    "\n",
    "def stretch(data, rate=0.8):\n",
    "    return librosa.effects.time_stretch(data, rate)\n",
    "\n",
    "def shift(data):\n",
    "    shift_range = int(np.random.uniform(low=-5, high = 5)*1000)\n",
    "    return np.roll(data, shift_range)\n",
    "\n",
    "def pitch(data, sampling_rate, pitch_factor=0.7):\n",
    "    return librosa.effects.pitch_shift(data, sampling_rate, pitch_factor)\n",
    "\n",
    "# taking any example and checking for techniques.\n",
    "path = np.array(data_path.Path)[1]\n",
    "data, sample_rate = librosa.load(path)"
   ]
  },
  {
   "cell_type": "code",
   "execution_count": 19,
   "metadata": {
    "execution": {
     "iopub.execute_input": "2021-09-11T08:02:00.975214Z",
     "iopub.status.busy": "2021-09-11T08:02:00.974761Z",
     "iopub.status.idle": "2021-09-11T08:02:00.989627Z",
     "shell.execute_reply": "2021-09-11T08:02:00.988665Z",
     "shell.execute_reply.started": "2021-09-11T08:02:00.975031Z"
    }
   },
   "outputs": [],
   "source": [
    "def extract_features(data):\n",
    "    # ZCR\n",
    "    result = np.array([])\n",
    "    zcr = np.mean(librosa.feature.zero_crossing_rate(y=data).T, axis=0)\n",
    "    result=np.hstack((result, zcr)) # stacking horizontally\n",
    "\n",
    "    # Chroma_stft\n",
    "    stft = np.abs(librosa.stft(data))\n",
    "    chroma_stft = np.mean(librosa.feature.chroma_stft(S=stft, sr=sample_rate).T, axis=0)\n",
    "    result = np.hstack((result, chroma_stft)) # stacking horizontally\n",
    "\n",
    "    # MFCC\n",
    "    mfcc = np.mean(librosa.feature.mfcc(y=data, sr=sample_rate).T, axis=0)\n",
    "    result = np.hstack((result, mfcc)) # stacking horizontally\n",
    "\n",
    "    # Root Mean Square Value\n",
    "    rms = np.mean(librosa.feature.rms(y=data).T, axis=0)\n",
    "    result = np.hstack((result, rms)) # stacking horizontally\n",
    "\n",
    "    # MelSpectogram\n",
    "    mel = np.mean(librosa.feature.melspectrogram(y=data, sr=sample_rate).T, axis=0)\n",
    "    result = np.hstack((result, mel)) # stacking horizontally\n",
    "    \n",
    "    return result\n",
    "\n",
    "def get_features(path):\n",
    "    # duration and offset are used to take care of the no audio in start and the ending of each audio files as seen above.\n",
    "    data, sample_rate = librosa.load(path, duration=2.5, offset=0.6)\n",
    "    \n",
    "    # without augmentation\n",
    "    res1 = extract_features(data)\n",
    "    result = np.array(res1)\n",
    "    \n",
    "    '''# data with noise\n",
    "    noise_data = noise(data)\n",
    "    res2 = extract_features(noise_data)\n",
    "    result = np.vstack((result, res2)) # stacking vertically'''\n",
    "    \n",
    "    # data with stretching and pitching\n",
    "    new_data = stretch(data)\n",
    "    data_stretch_pitch = pitch(new_data, sample_rate)\n",
    "    res3 = extract_features(data_stretch_pitch)\n",
    "    result = np.vstack((result, res3)) # stacking vertically\n",
    "    \n",
    "    return result"
   ]
  },
  {
   "cell_type": "code",
   "execution_count": 20,
   "metadata": {},
   "outputs": [
    {
     "data": {
      "text/plain": [
       "0    C:\\All_Files\\BE Project\\Savee\\ALL/DC_a01.wav\n",
       "Name: Path, dtype: object"
      ]
     },
     "execution_count": 20,
     "metadata": {},
     "output_type": "execute_result"
    }
   ],
   "source": [
    "data_path['Path'][:1]"
   ]
  },
  {
   "cell_type": "code",
   "execution_count": 21,
   "metadata": {},
   "outputs": [],
   "source": [
    "#feature = get_features(str(data_path['Path'][:1]))"
   ]
  },
  {
   "cell_type": "code",
   "execution_count": 22,
   "metadata": {
    "execution": {
     "iopub.execute_input": "2021-09-11T08:02:00.991682Z",
     "iopub.status.busy": "2021-09-11T08:02:00.991233Z",
     "iopub.status.idle": "2021-09-11T08:43:56.280129Z",
     "shell.execute_reply": "2021-09-11T08:43:56.279225Z",
     "shell.execute_reply.started": "2021-09-11T08:02:00.991512Z"
    }
   },
   "outputs": [],
   "source": [
    "X, Y = [], []\n",
    "for path, emotion in zip(data_path.Path, data_path.Emotions):\n",
    "    feature = get_features(path)\n",
    "    for ele in feature:#multiple features per audio\n",
    "        X.append(ele)Ṭ\n",
    "        Y.append(emotion)"
   ]
  },
  {
   "cell_type": "code",
   "execution_count": 23,
   "metadata": {
    "execution": {
     "iopub.execute_input": "2021-09-11T08:43:56.281752Z",
     "iopub.status.busy": "2021-09-11T08:43:56.281444Z",
     "iopub.status.idle": "2021-09-11T08:44:12.295728Z",
     "shell.execute_reply": "2021-09-11T08:44:12.294869Z",
     "shell.execute_reply.started": "2021-09-11T08:43:56.281690Z"
    }
   },
   "outputs": [
    {
     "data": {
      "text/html": [
       "<div>\n",
       "<style scoped>\n",
       "    .dataframe tbody tr th:only-of-type {\n",
       "        vertical-align: middle;\n",
       "    }\n",
       "\n",
       "    .dataframe tbody tr th {\n",
       "        vertical-align: top;\n",
       "    }\n",
       "\n",
       "    .dataframe thead th {\n",
       "        text-align: right;\n",
       "    }\n",
       "</style>\n",
       "<table border=\"1\" class=\"dataframe\">\n",
       "  <thead>\n",
       "    <tr style=\"text-align: right;\">\n",
       "      <th></th>\n",
       "      <th>0</th>\n",
       "      <th>1</th>\n",
       "      <th>2</th>\n",
       "      <th>3</th>\n",
       "      <th>4</th>\n",
       "      <th>5</th>\n",
       "      <th>6</th>\n",
       "      <th>7</th>\n",
       "      <th>8</th>\n",
       "      <th>9</th>\n",
       "      <th>...</th>\n",
       "      <th>153</th>\n",
       "      <th>154</th>\n",
       "      <th>155</th>\n",
       "      <th>156</th>\n",
       "      <th>157</th>\n",
       "      <th>158</th>\n",
       "      <th>159</th>\n",
       "      <th>160</th>\n",
       "      <th>161</th>\n",
       "      <th>labels</th>\n",
       "    </tr>\n",
       "  </thead>\n",
       "  <tbody>\n",
       "    <tr>\n",
       "      <th>0</th>\n",
       "      <td>0.038891</td>\n",
       "      <td>0.470030</td>\n",
       "      <td>0.577977</td>\n",
       "      <td>0.554338</td>\n",
       "      <td>0.482513</td>\n",
       "      <td>0.459260</td>\n",
       "      <td>0.483099</td>\n",
       "      <td>0.504528</td>\n",
       "      <td>0.459470</td>\n",
       "      <td>0.537165</td>\n",
       "      <td>...</td>\n",
       "      <td>0.000008</td>\n",
       "      <td>0.000002</td>\n",
       "      <td>0.000002</td>\n",
       "      <td>0.000002</td>\n",
       "      <td>0.000002</td>\n",
       "      <td>0.000003</td>\n",
       "      <td>0.000004</td>\n",
       "      <td>0.000006</td>\n",
       "      <td>0.000006</td>\n",
       "      <td>angry</td>\n",
       "    </tr>\n",
       "    <tr>\n",
       "      <th>1</th>\n",
       "      <td>0.032809</td>\n",
       "      <td>0.358430</td>\n",
       "      <td>0.503856</td>\n",
       "      <td>0.616875</td>\n",
       "      <td>0.561644</td>\n",
       "      <td>0.449105</td>\n",
       "      <td>0.437660</td>\n",
       "      <td>0.474675</td>\n",
       "      <td>0.471159</td>\n",
       "      <td>0.439713</td>\n",
       "      <td>...</td>\n",
       "      <td>0.000014</td>\n",
       "      <td>0.000008</td>\n",
       "      <td>0.000005</td>\n",
       "      <td>0.000005</td>\n",
       "      <td>0.000005</td>\n",
       "      <td>0.000006</td>\n",
       "      <td>0.000008</td>\n",
       "      <td>0.000011</td>\n",
       "      <td>0.000012</td>\n",
       "      <td>angry</td>\n",
       "    </tr>\n",
       "    <tr>\n",
       "      <th>2</th>\n",
       "      <td>0.033904</td>\n",
       "      <td>0.657557</td>\n",
       "      <td>0.696857</td>\n",
       "      <td>0.616553</td>\n",
       "      <td>0.544234</td>\n",
       "      <td>0.478499</td>\n",
       "      <td>0.445451</td>\n",
       "      <td>0.418413</td>\n",
       "      <td>0.456779</td>\n",
       "      <td>0.550003</td>\n",
       "      <td>...</td>\n",
       "      <td>0.000054</td>\n",
       "      <td>0.000058</td>\n",
       "      <td>0.000068</td>\n",
       "      <td>0.000079</td>\n",
       "      <td>0.000093</td>\n",
       "      <td>0.000126</td>\n",
       "      <td>0.000195</td>\n",
       "      <td>0.000324</td>\n",
       "      <td>0.000382</td>\n",
       "      <td>angry</td>\n",
       "    </tr>\n",
       "    <tr>\n",
       "      <th>3</th>\n",
       "      <td>0.039182</td>\n",
       "      <td>0.532378</td>\n",
       "      <td>0.637463</td>\n",
       "      <td>0.690856</td>\n",
       "      <td>0.627018</td>\n",
       "      <td>0.561282</td>\n",
       "      <td>0.473005</td>\n",
       "      <td>0.422298</td>\n",
       "      <td>0.391779</td>\n",
       "      <td>0.452012</td>\n",
       "      <td>...</td>\n",
       "      <td>0.000057</td>\n",
       "      <td>0.000056</td>\n",
       "      <td>0.000064</td>\n",
       "      <td>0.000076</td>\n",
       "      <td>0.000087</td>\n",
       "      <td>0.000117</td>\n",
       "      <td>0.000171</td>\n",
       "      <td>0.000256</td>\n",
       "      <td>0.000272</td>\n",
       "      <td>angry</td>\n",
       "    </tr>\n",
       "    <tr>\n",
       "      <th>4</th>\n",
       "      <td>0.034050</td>\n",
       "      <td>0.499476</td>\n",
       "      <td>0.400486</td>\n",
       "      <td>0.444634</td>\n",
       "      <td>0.500044</td>\n",
       "      <td>0.509017</td>\n",
       "      <td>0.532764</td>\n",
       "      <td>0.539512</td>\n",
       "      <td>0.576321</td>\n",
       "      <td>0.527569</td>\n",
       "      <td>...</td>\n",
       "      <td>0.000008</td>\n",
       "      <td>0.000005</td>\n",
       "      <td>0.000004</td>\n",
       "      <td>0.000004</td>\n",
       "      <td>0.000004</td>\n",
       "      <td>0.000005</td>\n",
       "      <td>0.000007</td>\n",
       "      <td>0.000009</td>\n",
       "      <td>0.000011</td>\n",
       "      <td>angry</td>\n",
       "    </tr>\n",
       "  </tbody>\n",
       "</table>\n",
       "<p>5 rows × 163 columns</p>\n",
       "</div>"
      ],
      "text/plain": [
       "          0         1         2         3         4         5         6  \\\n",
       "0  0.038891  0.470030  0.577977  0.554338  0.482513  0.459260  0.483099   \n",
       "1  0.032809  0.358430  0.503856  0.616875  0.561644  0.449105  0.437660   \n",
       "2  0.033904  0.657557  0.696857  0.616553  0.544234  0.478499  0.445451   \n",
       "3  0.039182  0.532378  0.637463  0.690856  0.627018  0.561282  0.473005   \n",
       "4  0.034050  0.499476  0.400486  0.444634  0.500044  0.509017  0.532764   \n",
       "\n",
       "          7         8         9  ...       153       154       155       156  \\\n",
       "0  0.504528  0.459470  0.537165  ...  0.000008  0.000002  0.000002  0.000002   \n",
       "1  0.474675  0.471159  0.439713  ...  0.000014  0.000008  0.000005  0.000005   \n",
       "2  0.418413  0.456779  0.550003  ...  0.000054  0.000058  0.000068  0.000079   \n",
       "3  0.422298  0.391779  0.452012  ...  0.000057  0.000056  0.000064  0.000076   \n",
       "4  0.539512  0.576321  0.527569  ...  0.000008  0.000005  0.000004  0.000004   \n",
       "\n",
       "        157       158       159       160       161  labels  \n",
       "0  0.000002  0.000003  0.000004  0.000006  0.000006   angry  \n",
       "1  0.000005  0.000006  0.000008  0.000011  0.000012   angry  \n",
       "2  0.000093  0.000126  0.000195  0.000324  0.000382   angry  \n",
       "3  0.000087  0.000117  0.000171  0.000256  0.000272   angry  \n",
       "4  0.000004  0.000005  0.000007  0.000009  0.000011   angry  \n",
       "\n",
       "[5 rows x 163 columns]"
      ]
     },
     "execution_count": 23,
     "metadata": {},
     "output_type": "execute_result"
    }
   ],
   "source": [
    "Features = pd.DataFrame(X)\n",
    "Features['labels'] = Y\n",
    "Features.to_csv('cnntrialmlpfeatures.csv', index=False)\n",
    "Features.head()"
   ]
  },
  {
   "cell_type": "code",
   "execution_count": 24,
   "metadata": {
    "execution": {
     "iopub.execute_input": "2021-09-11T08:44:12.297312Z",
     "iopub.status.busy": "2021-09-11T08:44:12.297031Z",
     "iopub.status.idle": "2021-09-11T08:44:12.347514Z",
     "shell.execute_reply": "2021-09-11T08:44:12.346650Z",
     "shell.execute_reply.started": "2021-09-11T08:44:12.297269Z"
    }
   },
   "outputs": [],
   "source": [
    "X = Features.iloc[: ,:-1].values\n",
    "Y = Features['labels'].values"
   ]
  },
  {
   "cell_type": "code",
   "execution_count": 88,
   "metadata": {},
   "outputs": [],
   "source": [
    "import pandas as pd\n",
    "import numpy as np\n",
    "\n",
    "import os\n",
    "import sys\n",
    "\n",
    "import librosa\n",
    "import librosa.display\n",
    "\n",
    "import seaborn as sns\n",
    "import matplotlib.pyplot as plt\n",
    "\n",
    "from sklearn.preprocessing import StandardScaler, OneHotEncoder\n",
    "from sklearn.metrics import confusion_matrix, classification_report\n",
    "from sklearn.model_selection import train_test_split\n",
    "from IPython.display import Audio\n",
    "import keras\n",
    "from keras.callbacks import ReduceLROnPlateau\n",
    "from keras.models import Sequential\n",
    "from keras.layers import Dense, Conv1D, MaxPooling1D, Flatten, Dropout, BatchNormalization\n",
    "from keras.utils import np_utils\n",
    "from tensorflow.keras.utils import to_categorical\n",
    "from keras.callbacks import ModelCheckpoint\n",
    "\n",
    "import warnings\n",
    "if not sys.warnoptions:\n",
    "    warnings.simplefilter(\"ignore\")\n",
    "warnings.filterwarnings(\"ignore\", category=DeprecationWarning) \n"
   ]
  },
  {
   "cell_type": "code",
   "execution_count": 89,
   "metadata": {},
   "outputs": [],
   "source": [
    "trdata=pd.read_csv('C:\\All_Files\\BE Project\\\\trials\\cnntrialmlpfeatures.csv')"
   ]
  },
  {
   "cell_type": "code",
   "execution_count": 90,
   "metadata": {},
   "outputs": [
    {
     "data": {
      "text/plain": [
       "(25842, 163)"
      ]
     },
     "execution_count": 90,
     "metadata": {},
     "output_type": "execute_result"
    }
   ],
   "source": [
    "trdata.shape"
   ]
  },
  {
   "cell_type": "code",
   "execution_count": 91,
   "metadata": {},
   "outputs": [
    {
     "data": {
      "text/plain": [
       "Index(['0', '1', '2', '3', '4', '5', '6', '7', '8', '9',\n",
       "       ...\n",
       "       '153', '154', '155', '156', '157', '158', '159', '160', '161',\n",
       "       'labels'],\n",
       "      dtype='object', length=163)"
      ]
     },
     "execution_count": 91,
     "metadata": {},
     "output_type": "execute_result"
    }
   ],
   "source": [
    "trdata.columns"
   ]
  },
  {
   "cell_type": "code",
   "execution_count": 92,
   "metadata": {},
   "outputs": [],
   "source": [
    "X = trdata.drop('labels', axis = 1).values\n",
    "Y = trdata['labels'].values"
   ]
  },
  {
   "cell_type": "code",
   "execution_count": 93,
   "metadata": {},
   "outputs": [
    {
     "data": {
      "text/plain": [
       "((25842, 162), (25842,))"
      ]
     },
     "execution_count": 93,
     "metadata": {},
     "output_type": "execute_result"
    }
   ],
   "source": [
    "X.shape,Y.shape"
   ]
  },
  {
   "cell_type": "code",
   "execution_count": 94,
   "metadata": {
    "execution": {
     "iopub.execute_input": "2021-09-11T08:44:12.349836Z",
     "iopub.status.busy": "2021-09-11T08:44:12.349336Z",
     "iopub.status.idle": "2021-09-11T08:44:12.377048Z",
     "shell.execute_reply": "2021-09-11T08:44:12.376215Z",
     "shell.execute_reply.started": "2021-09-11T08:44:12.349618Z"
    }
   },
   "outputs": [],
   "source": [
    "# As this is a multiclass classification problem onehotencoding our Y.\n",
    "encoder = OneHotEncoder()\n",
    "Y = encoder.fit_transform(np.array(Y).reshape(-1,1)).toarray()"
   ]
  },
  {
   "cell_type": "code",
   "execution_count": 95,
   "metadata": {
    "execution": {
     "iopub.execute_input": "2021-09-11T08:44:12.378939Z",
     "iopub.status.busy": "2021-09-11T08:44:12.378456Z",
     "iopub.status.idle": "2021-09-11T08:44:12.492347Z",
     "shell.execute_reply": "2021-09-11T08:44:12.491329Z",
     "shell.execute_reply.started": "2021-09-11T08:44:12.378759Z"
    }
   },
   "outputs": [
    {
     "data": {
      "text/plain": [
       "((19381, 162), (19381, 8), (6461, 162), (6461, 8))"
      ]
     },
     "execution_count": 95,
     "metadata": {},
     "output_type": "execute_result"
    }
   ],
   "source": [
    "# splitting data\n",
    "x_train, x_test, y_train, y_test = train_test_split(X, Y, random_state=0, shuffle=True)\n",
    "x_train.shape, y_train.shape, x_test.shape, y_test.shape"
   ]
  },
  {
   "cell_type": "code",
   "execution_count": 96,
   "metadata": {
    "execution": {
     "iopub.execute_input": "2021-09-11T08:44:12.494246Z",
     "iopub.status.busy": "2021-09-11T08:44:12.493818Z",
     "iopub.status.idle": "2021-09-11T08:44:12.659403Z",
     "shell.execute_reply": "2021-09-11T08:44:12.658522Z",
     "shell.execute_reply.started": "2021-09-11T08:44:12.494066Z"
    }
   },
   "outputs": [
    {
     "data": {
      "text/plain": [
       "((19381, 162), (19381, 8), (6461, 162), (6461, 8))"
      ]
     },
     "execution_count": 96,
     "metadata": {},
     "output_type": "execute_result"
    }
   ],
   "source": [
    "# scaling our data with sklearn's Standard scaler\n",
    "scaler = StandardScaler()\n",
    "x_train = scaler.fit_transform(x_train)\n",
    "x_test = scaler.transform(x_test)\n",
    "x_train.shape, y_train.shape, x_test.shape, y_test.shape"
   ]
  },
  {
   "cell_type": "code",
   "execution_count": 97,
   "metadata": {
    "execution": {
     "iopub.execute_input": "2021-09-11T08:44:12.661417Z",
     "iopub.status.busy": "2021-09-11T08:44:12.660978Z",
     "iopub.status.idle": "2021-09-11T08:44:12.669692Z",
     "shell.execute_reply": "2021-09-11T08:44:12.668738Z",
     "shell.execute_reply.started": "2021-09-11T08:44:12.661237Z"
    }
   },
   "outputs": [
    {
     "data": {
      "text/plain": [
       "((19381, 162, 1), (19381, 8), (6461, 162, 1), (6461, 8))"
      ]
     },
     "execution_count": 97,
     "metadata": {},
     "output_type": "execute_result"
    }
   ],
   "source": [
    "# making our data compatible to model.\n",
    "x_train = np.expand_dims(x_train, axis=2)\n",
    "x_test = np.expand_dims(x_test, axis=2)\n",
    "x_train.shape, y_train.shape, x_test.shape, y_test.shape"
   ]
  },
  {
   "cell_type": "code",
   "execution_count": 98,
   "metadata": {},
   "outputs": [],
   "source": [
    "feature_vector_length=x_train.shape[1]\n",
    "input_shape=(feature_vector_length,)\n",
    "num_classes=8"
   ]
  },
  {
   "cell_type": "code",
   "execution_count": 99,
   "metadata": {
    "execution": {
     "iopub.execute_input": "2021-09-11T08:44:12.671730Z",
     "iopub.status.busy": "2021-09-11T08:44:12.671111Z",
     "iopub.status.idle": "2021-09-11T08:44:15.034153Z",
     "shell.execute_reply": "2021-09-11T08:44:15.032536Z",
     "shell.execute_reply.started": "2021-09-11T08:44:12.671363Z"
    }
   },
   "outputs": [
    {
     "name": "stdout",
     "output_type": "stream",
     "text": [
      "Epoch 1/50\n",
      "606/606 - 3s - loss: 1.3471 - accuracy: 0.4785 - val_loss: 1.1584 - val_accuracy: 0.5448 - 3s/epoch - 4ms/step\n",
      "Epoch 2/50\n",
      "606/606 - 1s - loss: 1.1116 - accuracy: 0.5643 - val_loss: 1.1152 - val_accuracy: 0.5680 - 1s/epoch - 2ms/step\n",
      "Epoch 3/50\n",
      "606/606 - 1s - loss: 1.0400 - accuracy: 0.5918 - val_loss: 1.0806 - val_accuracy: 0.5790 - 1s/epoch - 2ms/step\n",
      "Epoch 4/50\n",
      "606/606 - 1s - loss: 0.9921 - accuracy: 0.6105 - val_loss: 1.0711 - val_accuracy: 0.5906 - 1s/epoch - 2ms/step\n",
      "Epoch 5/50\n",
      "606/606 - 1s - loss: 0.9422 - accuracy: 0.6328 - val_loss: 1.0537 - val_accuracy: 0.5936 - 1s/epoch - 2ms/step\n",
      "Epoch 6/50\n",
      "606/606 - 1s - loss: 0.9064 - accuracy: 0.6433 - val_loss: 1.0471 - val_accuracy: 0.6004 - 1s/epoch - 2ms/step\n",
      "Epoch 7/50\n",
      "606/606 - 1s - loss: 0.8795 - accuracy: 0.6553 - val_loss: 1.0917 - val_accuracy: 0.5922 - 1s/epoch - 2ms/step\n",
      "Epoch 8/50\n",
      "606/606 - 1s - loss: 0.8365 - accuracy: 0.6758 - val_loss: 1.0830 - val_accuracy: 0.6081 - 1s/epoch - 2ms/step\n",
      "Epoch 9/50\n",
      "606/606 - 1s - loss: 0.8127 - accuracy: 0.6840 - val_loss: 1.0739 - val_accuracy: 0.6063 - 1s/epoch - 2ms/step\n",
      "Epoch 10/50\n",
      "606/606 - 1s - loss: 0.7906 - accuracy: 0.6966 - val_loss: 1.0747 - val_accuracy: 0.6036 - 1s/epoch - 2ms/step\n",
      "Epoch 11/50\n",
      "606/606 - 1s - loss: 0.7603 - accuracy: 0.7062 - val_loss: 1.0829 - val_accuracy: 0.6041 - 1s/epoch - 2ms/step\n",
      "Epoch 12/50\n",
      "606/606 - 1s - loss: 0.7305 - accuracy: 0.7204 - val_loss: 1.1094 - val_accuracy: 0.6180 - 1s/epoch - 2ms/step\n",
      "Epoch 13/50\n",
      "606/606 - 1s - loss: 0.7227 - accuracy: 0.7267 - val_loss: 1.1794 - val_accuracy: 0.6149 - 1s/epoch - 2ms/step\n",
      "Epoch 14/50\n",
      "606/606 - 1s - loss: 0.6966 - accuracy: 0.7360 - val_loss: 1.1635 - val_accuracy: 0.6137 - 968ms/epoch - 2ms/step\n",
      "Epoch 15/50\n",
      "606/606 - 1s - loss: 0.6575 - accuracy: 0.7493 - val_loss: 1.1508 - val_accuracy: 0.6225 - 1s/epoch - 2ms/step\n",
      "Epoch 16/50\n",
      "606/606 - 1s - loss: 0.6551 - accuracy: 0.7529 - val_loss: 1.1533 - val_accuracy: 0.6124 - 765ms/epoch - 1ms/step\n",
      "Epoch 17/50\n",
      "606/606 - 1s - loss: 0.6252 - accuracy: 0.7595 - val_loss: 1.1964 - val_accuracy: 0.6273 - 754ms/epoch - 1ms/step\n",
      "Epoch 18/50\n",
      "606/606 - 1s - loss: 0.6064 - accuracy: 0.7719 - val_loss: 1.1909 - val_accuracy: 0.6239 - 789ms/epoch - 1ms/step\n",
      "Epoch 19/50\n",
      "606/606 - 1s - loss: 0.5837 - accuracy: 0.7801 - val_loss: 1.2084 - val_accuracy: 0.6304 - 794ms/epoch - 1ms/step\n",
      "Epoch 20/50\n",
      "606/606 - 1s - loss: 0.5875 - accuracy: 0.7794 - val_loss: 1.1991 - val_accuracy: 0.6316 - 758ms/epoch - 1ms/step\n",
      "Epoch 21/50\n",
      "606/606 - 1s - loss: 0.5743 - accuracy: 0.7898 - val_loss: 1.2605 - val_accuracy: 0.6220 - 760ms/epoch - 1ms/step\n",
      "Epoch 22/50\n",
      "606/606 - 1s - loss: 0.5311 - accuracy: 0.8024 - val_loss: 1.2924 - val_accuracy: 0.6336 - 780ms/epoch - 1ms/step\n",
      "Epoch 23/50\n",
      "606/606 - 1s - loss: 0.5475 - accuracy: 0.8001 - val_loss: 1.2734 - val_accuracy: 0.6336 - 757ms/epoch - 1ms/step\n",
      "Epoch 24/50\n",
      "606/606 - 1s - loss: 0.5007 - accuracy: 0.8151 - val_loss: 1.3168 - val_accuracy: 0.6346 - 755ms/epoch - 1ms/step\n",
      "Epoch 25/50\n",
      "606/606 - 1s - loss: 0.5066 - accuracy: 0.8122 - val_loss: 1.2963 - val_accuracy: 0.6275 - 754ms/epoch - 1ms/step\n",
      "Epoch 26/50\n",
      "606/606 - 1s - loss: 0.4876 - accuracy: 0.8165 - val_loss: 1.3992 - val_accuracy: 0.6313 - 801ms/epoch - 1ms/step\n",
      "Epoch 27/50\n",
      "606/606 - 1s - loss: 0.4580 - accuracy: 0.8285 - val_loss: 1.3862 - val_accuracy: 0.6307 - 763ms/epoch - 1ms/step\n",
      "Epoch 28/50\n",
      "606/606 - 1s - loss: 0.4746 - accuracy: 0.8248 - val_loss: 1.4103 - val_accuracy: 0.6307 - 1s/epoch - 2ms/step\n",
      "Epoch 29/50\n",
      "606/606 - 1s - loss: 0.4554 - accuracy: 0.8339 - val_loss: 1.3859 - val_accuracy: 0.6403 - 1s/epoch - 2ms/step\n",
      "Epoch 30/50\n",
      "606/606 - 1s - loss: 0.4202 - accuracy: 0.8474 - val_loss: 1.5099 - val_accuracy: 0.6200 - 1s/epoch - 2ms/step\n",
      "Epoch 31/50\n",
      "606/606 - 1s - loss: 0.4223 - accuracy: 0.8426 - val_loss: 1.5207 - val_accuracy: 0.6324 - 1s/epoch - 2ms/step\n",
      "Epoch 32/50\n",
      "606/606 - 1s - loss: 0.4191 - accuracy: 0.8484 - val_loss: 1.5564 - val_accuracy: 0.6324 - 975ms/epoch - 2ms/step\n",
      "Epoch 33/50\n",
      "606/606 - 1s - loss: 0.4744 - accuracy: 0.8351 - val_loss: 1.4711 - val_accuracy: 0.6261 - 748ms/epoch - 1ms/step\n",
      "Epoch 34/50\n",
      "606/606 - 1s - loss: 0.4012 - accuracy: 0.8542 - val_loss: 1.5996 - val_accuracy: 0.6319 - 1s/epoch - 2ms/step\n",
      "Epoch 35/50\n",
      "606/606 - 1s - loss: 0.3754 - accuracy: 0.8619 - val_loss: 1.6097 - val_accuracy: 0.6350 - 1s/epoch - 2ms/step\n",
      "Epoch 36/50\n",
      "606/606 - 1s - loss: 0.3744 - accuracy: 0.8640 - val_loss: 1.5832 - val_accuracy: 0.6315 - 1s/epoch - 2ms/step\n",
      "Epoch 37/50\n",
      "606/606 - 1s - loss: 0.3515 - accuracy: 0.8715 - val_loss: 1.6146 - val_accuracy: 0.6332 - 1s/epoch - 2ms/step\n",
      "Epoch 38/50\n",
      "606/606 - 2s - loss: 0.3414 - accuracy: 0.8719 - val_loss: 1.7310 - val_accuracy: 0.6357 - 2s/epoch - 3ms/step\n",
      "Epoch 39/50\n",
      "606/606 - 1s - loss: 0.3408 - accuracy: 0.8742 - val_loss: 1.8057 - val_accuracy: 0.6349 - 1s/epoch - 2ms/step\n",
      "Epoch 40/50\n",
      "606/606 - 1s - loss: 0.3821 - accuracy: 0.8679 - val_loss: 1.7896 - val_accuracy: 0.6301 - 997ms/epoch - 2ms/step\n",
      "Epoch 41/50\n",
      "606/606 - 1s - loss: 0.3556 - accuracy: 0.8707 - val_loss: 1.8324 - val_accuracy: 0.6245 - 1s/epoch - 2ms/step\n",
      "Epoch 42/50\n",
      "606/606 - 1s - loss: 0.3253 - accuracy: 0.8814 - val_loss: 1.7677 - val_accuracy: 0.6343 - 1s/epoch - 2ms/step\n",
      "Epoch 43/50\n",
      "606/606 - 1s - loss: 0.3219 - accuracy: 0.8850 - val_loss: 1.8141 - val_accuracy: 0.6367 - 1s/epoch - 2ms/step\n",
      "Epoch 44/50\n",
      "606/606 - 1s - loss: 0.3470 - accuracy: 0.8788 - val_loss: 1.8729 - val_accuracy: 0.6367 - 1s/epoch - 2ms/step\n",
      "Epoch 45/50\n",
      "606/606 - 1s - loss: 0.2918 - accuracy: 0.8939 - val_loss: 1.8600 - val_accuracy: 0.6375 - 1s/epoch - 2ms/step\n",
      "Epoch 46/50\n",
      "606/606 - 1s - loss: 0.2745 - accuracy: 0.9018 - val_loss: 1.9383 - val_accuracy: 0.6313 - 1s/epoch - 2ms/step\n",
      "Epoch 47/50\n",
      "606/606 - 1s - loss: 0.2811 - accuracy: 0.8970 - val_loss: 2.0144 - val_accuracy: 0.6270 - 1s/epoch - 2ms/step\n",
      "Epoch 48/50\n",
      "606/606 - 1s - loss: 0.2981 - accuracy: 0.8912 - val_loss: 1.9311 - val_accuracy: 0.6244 - 1s/epoch - 2ms/step\n",
      "Epoch 49/50\n",
      "606/606 - 1s - loss: 0.2983 - accuracy: 0.8953 - val_loss: 2.1277 - val_accuracy: 0.6293 - 1s/epoch - 2ms/step\n",
      "Epoch 50/50\n",
      "606/606 - 1s - loss: 0.3231 - accuracy: 0.8926 - val_loss: 1.9951 - val_accuracy: 0.6324 - 992ms/epoch - 2ms/step\n"
     ]
    }
   ],
   "source": [
    "model=Sequential()\n",
    "model.add(Dense(350,input_shape=input_shape,activation='relu'))\n",
    "model.add(Dense(50, activation='relu'))\n",
    "model.add(Dense(50, activation='relu'))\n",
    "model.add(Dense(num_classes, activation='softmax'))\n",
    "\n",
    "model.compile(loss='categorical_crossentropy', optimizer='adam', metrics=['accuracy'])\n",
    "trialmod=model.fit(x_train, y_train, epochs=50, batch_size=32,validation_data=(x_test,y_test), verbose=2)"
   ]
  },
  {
   "cell_type": "code",
   "execution_count": 100,
   "metadata": {
    "execution": {
     "iopub.execute_input": "2021-09-11T08:47:51.964677Z",
     "iopub.status.busy": "2021-09-11T08:47:51.964355Z",
     "iopub.status.idle": "2021-09-11T08:47:53.239334Z",
     "shell.execute_reply": "2021-09-11T08:47:53.238536Z",
     "shell.execute_reply.started": "2021-09-11T08:47:51.964627Z"
    }
   },
   "outputs": [
    {
     "name": "stdout",
     "output_type": "stream",
     "text": [
      "202/202 [==============================] - 0s 1ms/step - loss: 1.9951 - accuracy: 0.6324\n",
      "Accuracy of our model on test data :  63.240987062454224 %\n"
     ]
    },
    {
     "data": {
      "image/png": "[encoded data removed]",
      "text/plain": [
       "<Figure size 1440x432 with 2 Axes>"
      ]
     },
     "metadata": {
      "needs_background": "light"
     },
     "output_type": "display_data"
    }
   ],
   "source": [
    "print(\"Accuracy of our model on test data : \" , model.evaluate(x_test,y_test)[1]*100 , \"%\")\n",
    "\n",
    "epochs = [i for i in range(50)]\n",
    "fig , ax = plt.subplots(1,2)\n",
    "train_acc = trialmod.history['accuracy']\n",
    "train_loss = trialmod.history['loss']\n",
    "test_acc = trialmod.history['val_accuracy']\n",
    "test_loss = trialmod.history['val_loss']\n",
    "\n",
    "fig.set_size_inches(20,6)\n",
    "ax[0].plot(epochs , train_loss , label = 'Training Loss')\n",
    "ax[0].plot(epochs , test_loss , label = 'Testing Loss')\n",
    "ax[0].set_title('Training & Testing Loss')\n",
    "ax[0].legend()\n",
    "ax[0].set_xlabel(\"Epochs\")\n",
    "\n",
    "ax[1].plot(epochs , train_acc , label = 'Training Accuracy')\n",
    "ax[1].plot(epochs , test_acc , label = 'Testing Accuracy')\n",
    "ax[1].set_title('Training & Testing Accuracy')\n",
    "ax[1].legend()\n",
    "ax[1].set_xlabel(\"Epochs\")\n",
    "plt.show()"
   ]
  },
  {
   "cell_type": "code",
   "execution_count": 101,
   "metadata": {
    "execution": {
     "iopub.execute_input": "2021-09-11T08:47:53.241009Z",
     "iopub.status.busy": "2021-09-11T08:47:53.240686Z",
     "iopub.status.idle": "2021-09-11T08:47:53.931285Z",
     "shell.execute_reply": "2021-09-11T08:47:53.930303Z",
     "shell.execute_reply.started": "2021-09-11T08:47:53.240959Z"
    }
   },
   "outputs": [],
   "source": [
    "# predicting on test data.\n",
    "pred_test = model.predict(x_test)\n",
    "y_pred = encoder.inverse_transform(pred_test)\n",
    "\n",
    "y_test = encoder.inverse_transform(y_test)"
   ]
  },
  {
   "cell_type": "code",
   "execution_count": 102,
   "metadata": {
    "execution": {
     "iopub.execute_input": "2021-09-11T08:54:08.301630Z",
     "iopub.status.busy": "2021-09-11T08:54:08.301307Z",
     "iopub.status.idle": "2021-09-11T08:54:08.362631Z",
     "shell.execute_reply": "2021-09-11T08:54:08.361984Z",
     "shell.execute_reply.started": "2021-09-11T08:54:08.301577Z"
    }
   },
   "outputs": [],
   "source": [
    "model.save(\"modelmlpbycnntrial.h5\")"
   ]
  },
  {
   "cell_type": "code",
   "execution_count": 103,
   "metadata": {
    "execution": {
     "iopub.execute_input": "2021-09-11T08:47:53.933055Z",
     "iopub.status.busy": "2021-09-11T08:47:53.932763Z",
     "iopub.status.idle": "2021-09-11T08:47:53.955557Z",
     "shell.execute_reply": "2021-09-11T08:47:53.954344Z",
     "shell.execute_reply.started": "2021-09-11T08:47:53.933009Z"
    }
   },
   "outputs": [
    {
     "data": {
      "text/html": [
       "<div>\n",
       "<style scoped>\n",
       "    .dataframe tbody tr th:only-of-type {\n",
       "        vertical-align: middle;\n",
       "    }\n",
       "\n",
       "    .dataframe tbody tr th {\n",
       "        vertical-align: top;\n",
       "    }\n",
       "\n",
       "    .dataframe thead th {\n",
       "        text-align: right;\n",
       "    }\n",
       "</style>\n",
       "<table border=\"1\" class=\"dataframe\">\n",
       "  <thead>\n",
       "    <tr style=\"text-align: right;\">\n",
       "      <th></th>\n",
       "      <th>Predicted Labels</th>\n",
       "      <th>Actual Labels</th>\n",
       "    </tr>\n",
       "  </thead>\n",
       "  <tbody>\n",
       "    <tr>\n",
       "      <th>0</th>\n",
       "      <td>sad</td>\n",
       "      <td>sad</td>\n",
       "    </tr>\n",
       "    <tr>\n",
       "      <th>1</th>\n",
       "      <td>angry</td>\n",
       "      <td>angry</td>\n",
       "    </tr>\n",
       "    <tr>\n",
       "      <th>2</th>\n",
       "      <td>neutral</td>\n",
       "      <td>disgust</td>\n",
       "    </tr>\n",
       "    <tr>\n",
       "      <th>3</th>\n",
       "      <td>disgust</td>\n",
       "      <td>disgust</td>\n",
       "    </tr>\n",
       "    <tr>\n",
       "      <th>4</th>\n",
       "      <td>fear</td>\n",
       "      <td>neutral</td>\n",
       "    </tr>\n",
       "    <tr>\n",
       "      <th>5</th>\n",
       "      <td>happy</td>\n",
       "      <td>happy</td>\n",
       "    </tr>\n",
       "    <tr>\n",
       "      <th>6</th>\n",
       "      <td>angry</td>\n",
       "      <td>angry</td>\n",
       "    </tr>\n",
       "    <tr>\n",
       "      <th>7</th>\n",
       "      <td>angry</td>\n",
       "      <td>angry</td>\n",
       "    </tr>\n",
       "    <tr>\n",
       "      <th>8</th>\n",
       "      <td>fear</td>\n",
       "      <td>neutral</td>\n",
       "    </tr>\n",
       "    <tr>\n",
       "      <th>9</th>\n",
       "      <td>fear</td>\n",
       "      <td>fear</td>\n",
       "    </tr>\n",
       "  </tbody>\n",
       "</table>\n",
       "</div>"
      ],
      "text/plain": [
       "  Predicted Labels Actual Labels\n",
       "0              sad           sad\n",
       "1            angry         angry\n",
       "2          neutral       disgust\n",
       "3          disgust       disgust\n",
       "4             fear       neutral\n",
       "5            happy         happy\n",
       "6            angry         angry\n",
       "7            angry         angry\n",
       "8             fear       neutral\n",
       "9             fear          fear"
      ]
     },
     "execution_count": 103,
     "metadata": {},
     "output_type": "execute_result"
    }
   ],
   "source": [
    "df = pd.DataFrame(columns=['Predicted Labels', 'Actual Labels'])\n",
    "df['Predicted Labels'] = y_pred.flatten()\n",
    "df['Actual Labels'] = y_test.flatten()\n",
    "\n",
    "df.head(10)"
   ]
  },
  {
   "cell_type": "code",
   "execution_count": 104,
   "metadata": {},
   "outputs": [
    {
     "data": {
      "text/plain": [
       "((19381, 162, 1), (6461, 162, 1), (19381, 8), (6461, 1))"
      ]
     },
     "execution_count": 104,
     "metadata": {},
     "output_type": "execute_result"
    }
   ],
   "source": [
    "\n",
    "x_train.shape, x_test.shape, y_train.shape,y_test.shape\n",
    "#test_results = model.evaluate(x_test, y_test, verbose=1)\n",
    "#print(f'Test results - Loss: {test_results[0]} - Accuracy: {test_results[1]}%')"
   ]
  },
  {
   "cell_type": "code",
   "execution_count": 105,
   "metadata": {
    "execution": {
     "iopub.execute_input": "2021-09-11T08:47:53.957808Z",
     "iopub.status.busy": "2021-09-11T08:47:53.957212Z",
     "iopub.status.idle": "2021-09-11T08:47:54.432755Z",
     "shell.execute_reply": "2021-09-11T08:47:54.431964Z",
     "shell.execute_reply.started": "2021-09-11T08:47:53.957472Z"
    }
   },
   "outputs": [
    {
     "data": {
      "image/png": "[encoded data removed]",
      "text/plain": [
       "<Figure size 864x720 with 2 Axes>"
      ]
     },
     "metadata": {
      "needs_background": "light"
     },
     "output_type": "display_data"
    }
   ],
   "source": [
    "cm = confusion_matrix(y_test, y_pred)\n",
    "plt.figure(figsize = (12, 10))\n",
    "cm = pd.DataFrame(cm , index = [i for i in encoder.categories_] , columns = [i for i in encoder.categories_])\n",
    "sns.heatmap(cm, linecolor='white', cmap='Blues', linewidth=1, annot=True, fmt='')\n",
    "plt.title('Confusion Matrix', size=20)\n",
    "plt.xlabel('Predicted Labels', size=14)\n",
    "plt.ylabel('Actual Labels', size=14)\n",
    "plt.show()"
   ]
  },
  {
   "cell_type": "code",
   "execution_count": 106,
   "metadata": {
    "execution": {
     "iopub.execute_input": "2021-09-11T08:47:54.434359Z",
     "iopub.status.busy": "2021-09-11T08:47:54.434086Z",
     "iopub.status.idle": "2021-09-11T08:47:54.828670Z",
     "shell.execute_reply": "2021-09-11T08:47:54.827861Z",
     "shell.execute_reply.started": "2021-09-11T08:47:54.434314Z"
    }
   },
   "outputs": [
    {
     "name": "stdout",
     "output_type": "stream",
     "text": [
      "              precision    recall  f1-score   support\n",
      "\n",
      "       angry       0.71      0.75      0.73      1198\n",
      "        calm       0.80      0.85      0.82       105\n",
      "     disgust       0.50      0.59      0.54       904\n",
      "        fear       0.58      0.51      0.54       980\n",
      "       happy       0.57      0.56      0.56      1016\n",
      "     neutral       0.69      0.58      0.63       852\n",
      "         sad       0.65      0.67      0.66      1090\n",
      "    surprise       0.83      0.87      0.85       316\n",
      "\n",
      "    accuracy                           0.63      6461\n",
      "   macro avg       0.67      0.67      0.67      6461\n",
      "weighted avg       0.63      0.63      0.63      6461\n",
      "\n",
      "           Accuracy with CNN:63.24\n",
      "Accuracy obtained with all 4 English Datasets:\n",
      "RAVDESS,TESS,SAVEE,CREMA-D\n"
     ]
    }
   ],
   "source": [
    "print(classification_report(y_test, y_pred))\n",
    "print(\"           Accuracy with MLP(Keras):{:.2f}\".format(test_acc[len(test_acc)-1]*100))\n",
    "print(\"Accuracy obtained with all 4 English Datasets:\\nRAVDESS,TESS,SAVEE,CREMA-D\")"
   ]
  }
 ],
 "metadata": {
  "interpreter": {
   "hash": "e5a556bc4f8294f95b90ee2e44513fe97e0e48f954e3b624f06bdf48c20f2f5d"
  },
  "kernelspec": {
   "display_name": "Python 3.9.1 64-bit",
   "name": "python3"
  },
  "language_info": {
   "codemirror_mode": {
    "name": "ipython",
    "version": 3
   },
   "file_extension": ".py",
   "mimetype": "text/x-python",
   "name": "python",
   "nbconvert_exporter": "python",
   "pygments_lexer": "ipython3",
   "version": "3.9.1"
  }
 },
 "nbformat": 4,
 "nbformat_minor": 4
}
